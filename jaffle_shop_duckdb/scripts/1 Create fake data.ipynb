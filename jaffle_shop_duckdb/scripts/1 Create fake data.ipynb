{
 "cells": [
  {
   "cell_type": "code",
   "execution_count": 1,
   "metadata": {},
   "outputs": [
    {
     "name": "stdout",
     "output_type": "stream",
     "text": [
      "Note: you may need to restart the kernel to use updated packages.\n"
     ]
    },
    {
     "name": "stderr",
     "output_type": "stream",
     "text": [
      "ERROR: Could not find a version that satisfies the requirement requirements_simple.txt\n",
      "ERROR: No matching distribution found for requirements_simple.txt\n"
     ]
    }
   ],
   "source": [
    "pip install requirements_simple.txt"
   ]
  },
  {
   "cell_type": "code",
   "execution_count": null,
   "metadata": {},
   "outputs": [],
   "source": [
    "# venv\\Scripts\\activate.bat"
   ]
  },
  {
   "cell_type": "code",
   "execution_count": null,
   "metadata": {},
   "outputs": [
    {
     "name": "stdout",
     "output_type": "stream",
     "text": [
      "test\n"
     ]
    }
   ],
   "source": [
    "print('test')"
   ]
  },
  {
   "cell_type": "code",
   "execution_count": 5,
   "metadata": {},
   "outputs": [
    {
     "name": "stdout",
     "output_type": "stream",
     "text": [
      "Collecting faker\n",
      "  Downloading Faker-26.0.0-py3-none-any.whl (1.8 MB)\n",
      "Requirement already satisfied: python-dateutil>=2.4 in c:\\users\\olive\\anaconda3\\lib\\site-packages (from faker) (2.8.1)\n",
      "Requirement already satisfied: six>=1.5 in c:\\users\\olive\\anaconda3\\lib\\site-packages (from python-dateutil>=2.4->faker) (1.15.0)\n",
      "Installing collected packages: faker\n",
      "Successfully installed faker-26.0.0\n",
      "Note: you may need to restart the kernel to use updated packages.\n"
     ]
    }
   ],
   "source": [
    "pip install faker"
   ]
  },
  {
   "cell_type": "code",
   "execution_count": 9,
   "metadata": {},
   "outputs": [],
   "source": [
    "# NOTE - it is possible to anonymise data with this, so some SoMe data may be useful \n",
    "# perhaps we can do some NLP stuff inside our pipeline, like applying some ML model to transform the data from database \n",
    "# we need to plug in python scripts"
   ]
  },
  {
   "cell_type": "code",
   "execution_count": 26,
   "metadata": {},
   "outputs": [],
   "source": [
    "from faker import Faker\n",
    "import pandas as pd\n",
    "import sqlalchemy\n",
    "import duckdb\n",
    "import os"
   ]
  },
  {
   "cell_type": "code",
   "execution_count": 27,
   "metadata": {},
   "outputs": [],
   "source": [
    "# Initialize Faker\n",
    "fake = Faker('it_IT')"
   ]
  },
  {
   "cell_type": "code",
   "execution_count": 28,
   "metadata": {},
   "outputs": [],
   "source": [
    "# Function to generate fake data\n",
    "def generate_fake_data(num_rows):\n",
    "    data = []\n",
    "    for _ in range(num_rows):\n",
    "        data.append({\n",
    "            'id': fake.uuid4(),\n",
    "            'name': fake.name(),\n",
    "            'email': fake.email(),\n",
    "            'address': fake.address(),\n",
    "            'date_of_birth': fake.date_of_birth(),\n",
    "            'created_at': fake.date_time_this_year()\n",
    "        })\n",
    "    return pd.DataFrame(data)"
   ]
  },
  {
   "cell_type": "code",
   "execution_count": 29,
   "metadata": {},
   "outputs": [],
   "source": [
    "# Generate fake data\n",
    "num_rows = 50  # Specify the number of rows you want\n",
    "df = generate_fake_data(num_rows)"
   ]
  },
  {
   "cell_type": "code",
   "execution_count": 33,
   "metadata": {},
   "outputs": [],
   "source": [
    "# Adjust path to the DuckDB file\n",
    "db_path = os.path.join(os.path.dirname(os.getcwd()), 'jaffle_shop.duckdb')\n"
   ]
  },
  {
   "cell_type": "code",
   "execution_count": 35,
   "metadata": {},
   "outputs": [],
   "source": [
    "\n",
    "# Connect to DuckDB (or create it)\n",
    "con = duckdb.connect(db_path)"
   ]
  },
  {
   "cell_type": "code",
   "execution_count": null,
   "metadata": {},
   "outputs": [],
   "source": []
  },
  {
   "cell_type": "code",
   "execution_count": 36,
   "metadata": {},
   "outputs": [],
   "source": [
    "\n",
    "\n",
    "# Write the DataFrame to the DuckDB database\n",
    "con.execute(\"CREATE TABLE IF NOT EXISTS fake_table AS SELECT * FROM df\")\n",
    "\n",
    "# Commit and close the connection\n",
    "con.close()"
   ]
  },
  {
   "cell_type": "code",
   "execution_count": null,
   "metadata": {},
   "outputs": [],
   "source": [
    "\n",
    "\n",
    "\n",
    "\n"
   ]
  }
 ],
 "metadata": {
  "kernelspec": {
   "display_name": "venv",
   "language": "python",
   "name": "python3"
  },
  "language_info": {
   "codemirror_mode": {
    "name": "ipython",
    "version": 3
   },
   "file_extension": ".py",
   "mimetype": "text/x-python",
   "name": "python",
   "nbconvert_exporter": "python",
   "pygments_lexer": "ipython3",
   "version": "3.8.8"
  }
 },
 "nbformat": 4,
 "nbformat_minor": 2
}
