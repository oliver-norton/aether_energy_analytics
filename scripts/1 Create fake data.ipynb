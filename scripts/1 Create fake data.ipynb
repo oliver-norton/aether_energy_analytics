{
 "cells": [
  {
   "cell_type": "code",
   "execution_count": 1,
   "metadata": {},
   "outputs": [
    {
     "name": "stdout",
     "output_type": "stream",
     "text": [
      "test\n"
     ]
    }
   ],
   "source": [
    "print('test')"
   ]
  },
  {
   "cell_type": "code",
   "execution_count": 2,
   "metadata": {},
   "outputs": [
    {
     "name": "stdout",
     "output_type": "stream",
     "text": [
      "Requirement already satisfied: pandas in c:\\users\\olive\\appdata\\local\\programs\\python\\python312\\lib\\site-packages (2.2.2)\n",
      "Requirement already satisfied: numpy>=1.26.0 in c:\\users\\olive\\appdata\\local\\programs\\python\\python312\\lib\\site-packages (from pandas) (2.0.0)\n",
      "Requirement already satisfied: python-dateutil>=2.8.2 in c:\\users\\olive\\appdata\\roaming\\python\\python312\\site-packages (from pandas) (2.9.0.post0)\n",
      "Requirement already satisfied: pytz>=2020.1 in c:\\users\\olive\\appdata\\local\\programs\\python\\python312\\lib\\site-packages (from pandas) (2024.1)\n",
      "Requirement already satisfied: tzdata>=2022.7 in c:\\users\\olive\\appdata\\local\\programs\\python\\python312\\lib\\site-packages (from pandas) (2024.1)\n",
      "Requirement already satisfied: six>=1.5 in c:\\users\\olive\\appdata\\roaming\\python\\python312\\site-packages (from python-dateutil>=2.8.2->pandas) (1.16.0)\n",
      "Note: you may need to restart the kernel to use updated packages.\n"
     ]
    },
    {
     "name": "stderr",
     "output_type": "stream",
     "text": [
      "\n",
      "[notice] A new release of pip is available: 24.0 -> 24.1.1\n",
      "[notice] To update, run: python.exe -m pip install --upgrade pip\n"
     ]
    }
   ],
   "source": [
    "pip install pandas"
   ]
  },
  {
   "cell_type": "code",
   "execution_count": 23,
   "metadata": {},
   "outputs": [
    {
     "name": "stdout",
     "output_type": "stream",
     "text": [
      "Note: you may need to restart the kernel to use updated packages.\n"
     ]
    },
    {
     "name": "stderr",
     "output_type": "stream",
     "text": [
      "ERROR: unknown command \"sqlalchemy\"\n",
      "\n"
     ]
    }
   ],
   "source": [
    "pip sqlalchemy"
   ]
  },
  {
   "cell_type": "code",
   "execution_count": 24,
   "metadata": {},
   "outputs": [
    {
     "name": "stdout",
     "output_type": "stream",
     "text": [
      "Collecting duckdb\n",
      "  Downloading duckdb-1.0.0-cp312-cp312-win_amd64.whl.metadata (781 bytes)\n",
      "Downloading duckdb-1.0.0-cp312-cp312-win_amd64.whl (9.9 MB)\n",
      "   ---------------------------------------- 0.0/9.9 MB ? eta -:--:--\n",
      "   ---------------------------------------- 0.0/9.9 MB ? eta -:--:--\n",
      "   ---------------------------------------- 0.0/9.9 MB ? eta -:--:--\n",
      "   ---------------------------------------- 0.0/9.9 MB 326.8 kB/s eta 0:00:31\n",
      "    --------------------------------------- 0.2/9.9 MB 1.3 MB/s eta 0:00:08\n",
      "   -- ------------------------------------- 0.6/9.9 MB 3.4 MB/s eta 0:00:03\n",
      "   ---- ----------------------------------- 1.2/9.9 MB 5.0 MB/s eta 0:00:02\n",
      "   ------ --------------------------------- 1.7/9.9 MB 6.1 MB/s eta 0:00:02\n",
      "   --------- ------------------------------ 2.3/9.9 MB 6.9 MB/s eta 0:00:02\n",
      "   ----------- ---------------------------- 2.9/9.9 MB 7.7 MB/s eta 0:00:01\n",
      "   ------------- -------------------------- 3.5/9.9 MB 7.9 MB/s eta 0:00:01\n",
      "   ---------------- ----------------------- 4.0/9.9 MB 8.2 MB/s eta 0:00:01\n",
      "   ------------------ --------------------- 4.5/9.9 MB 8.5 MB/s eta 0:00:01\n",
      "   -------------------- ------------------- 5.1/9.9 MB 8.8 MB/s eta 0:00:01\n",
      "   ---------------------- ----------------- 5.7/9.9 MB 9.1 MB/s eta 0:00:01\n",
      "   ------------------------- -------------- 6.2/9.9 MB 9.2 MB/s eta 0:00:01\n",
      "   --------------------------- ------------ 6.8/9.9 MB 9.4 MB/s eta 0:00:01\n",
      "   ---------------------------- ----------- 7.1/9.9 MB 9.4 MB/s eta 0:00:01\n",
      "   ------------------------------ --------- 7.5/9.9 MB 9.4 MB/s eta 0:00:01\n",
      "   -------------------------------- ------- 8.0/9.9 MB 9.5 MB/s eta 0:00:01\n",
      "   ---------------------------------- ----- 8.6/9.9 MB 9.6 MB/s eta 0:00:01\n",
      "   ------------------------------------ --- 9.1/9.9 MB 9.7 MB/s eta 0:00:01\n",
      "   -------------------------------------- - 9.6/9.9 MB 9.8 MB/s eta 0:00:01\n",
      "   ---------------------------------------  9.9/9.9 MB 9.8 MB/s eta 0:00:01\n",
      "   ---------------------------------------- 9.9/9.9 MB 9.3 MB/s eta 0:00:00\n",
      "Installing collected packages: duckdb\n",
      "Successfully installed duckdb-1.0.0\n",
      "Note: you may need to restart the kernel to use updated packages.\n"
     ]
    },
    {
     "name": "stderr",
     "output_type": "stream",
     "text": [
      "\n",
      "[notice] A new release of pip is available: 24.0 -> 24.1.1\n",
      "[notice] To update, run: python.exe -m pip install --upgrade pip\n"
     ]
    }
   ],
   "source": [
    "pip install duckdb"
   ]
  },
  {
   "cell_type": "code",
   "execution_count": 3,
   "metadata": {},
   "outputs": [
    {
     "name": "stdout",
     "output_type": "stream",
     "text": [
      "Requirement already satisfied: faker in c:\\users\\olive\\appdata\\local\\programs\\python\\python312\\lib\\site-packages (26.0.0)\n",
      "Requirement already satisfied: python-dateutil>=2.4 in c:\\users\\olive\\appdata\\roaming\\python\\python312\\site-packages (from faker) (2.9.0.post0)\n",
      "Requirement already satisfied: six>=1.5 in c:\\users\\olive\\appdata\\roaming\\python\\python312\\site-packages (from python-dateutil>=2.4->faker) (1.16.0)\n",
      "Note: you may need to restart the kernel to use updated packages.\n"
     ]
    },
    {
     "name": "stderr",
     "output_type": "stream",
     "text": [
      "\n",
      "[notice] A new release of pip is available: 24.0 -> 24.1.1\n",
      "[notice] To update, run: python.exe -m pip install --upgrade pip\n"
     ]
    }
   ],
   "source": [
    "pip install faker"
   ]
  },
  {
   "cell_type": "code",
   "execution_count": 4,
   "metadata": {},
   "outputs": [
    {
     "name": "stdout",
     "output_type": "stream",
     "text": [
      "Requirement already satisfied: numpy in c:\\users\\olive\\appdata\\local\\programs\\python\\python312\\lib\\site-packages (2.0.0)\n",
      "Note: you may need to restart the kernel to use updated packages.\n"
     ]
    },
    {
     "name": "stderr",
     "output_type": "stream",
     "text": [
      "\n",
      "[notice] A new release of pip is available: 24.0 -> 24.1.1\n",
      "[notice] To update, run: python.exe -m pip install --upgrade pip\n"
     ]
    }
   ],
   "source": [
    "pip install numpy"
   ]
  },
  {
   "cell_type": "code",
   "execution_count": 27,
   "metadata": {},
   "outputs": [],
   "source": [
    "# from faker import Faker\n",
    "# import pandas as pd\n",
    "\n",
    "# import duckdb\n",
    "# import os"
   ]
  },
  {
   "cell_type": "code",
   "execution_count": 9,
   "metadata": {},
   "outputs": [],
   "source": [
    "# NOTE - it is possible to anonymise data with this, so some SoMe data may be useful \n",
    "# perhaps we can do some NLP stuff inside our pipeline, like applying some ML model to transform the data from database \n",
    "# we need to plug in python scripts"
   ]
  },
  {
   "cell_type": "code",
   "execution_count": 16,
   "metadata": {},
   "outputs": [
    {
     "name": "stdout",
     "output_type": "stream",
     "text": [
      "Customers Table:\n",
      "   customer_id      customer_name  age  gender region\n",
      "0            1          David Lee   69    Male   West\n",
      "1            2  Jessica Hernandez   25    Male   East\n",
      "2            3        Noah Robles   28  Female   West\n",
      "3            4         Julie Hood   28  Female   West\n",
      "4            5  Ashley Richardson   64    Male  South\n"
     ]
    }
   ],
   "source": [
    "from faker import Faker\n",
    "import pandas as pd\n",
    "import numpy as np\n",
    "\n",
    "# Initialize Faker generator\n",
    "fake = Faker()\n",
    "\n",
    "# Generate data for customers\n",
    "np.random.seed(0)\n",
    "customer_ids = range(1, 51)\n",
    "customer_names = [fake.name() for _ in customer_ids]\n",
    "customer_ages = np.random.randint(25, 70, size=50)\n",
    "customer_genders = np.random.choice(['Male', 'Female'], size=50)\n",
    "customer_regions = np.random.choice(['North', 'South', 'East', 'West'], size=50)\n",
    "\n",
    "# Create DataFrame for customers\n",
    "df_customers = pd.DataFrame({\n",
    "    'customer_id': customer_ids,\n",
    "    'customer_name': customer_names,\n",
    "    'age': customer_ages,\n",
    "    'gender': customer_genders,\n",
    "    'region': customer_regions\n",
    "})\n",
    "\n",
    "# Display the DataFrame\n",
    "print(\"Customers Table:\")\n",
    "print(df_customers.head())\n"
   ]
  },
  {
   "cell_type": "code",
   "execution_count": 6,
   "metadata": {},
   "outputs": [],
   "source": [
    "# Function to generate fake data\n",
    "def generate_fake_data(num_rows):\n",
    "    data = []\n",
    "    for _ in range(num_rows):\n",
    "        data.append({\n",
    "            'id': fake.uuid4(),\n",
    "            'name': fake.name(),\n",
    "            'email': fake.email(),\n",
    "            'address': fake.address(),\n",
    "            'date_of_birth': fake.date_of_birth(),\n",
    "            'created_at': fake.date_time_this_year()\n",
    "        })\n",
    "    return pd.DataFrame(data)"
   ]
  },
  {
   "cell_type": "code",
   "execution_count": 17,
   "metadata": {},
   "outputs": [
    {
     "name": "stdout",
     "output_type": "stream",
     "text": [
      "\n",
      "Energy Consumption Table:\n",
      "   timestamp  customer_id  energy_usage_kWh\n",
      "0 2023-01-01           36         37.017563\n",
      "1 2023-01-02           21         19.991851\n",
      "2 2023-01-03           18         22.528733\n",
      "3 2023-01-04           28         48.616649\n",
      "4 2023-01-05           15         33.538603\n"
     ]
    }
   ],
   "source": [
    "# Generate data for energy consumption\n",
    "timestamps = pd.date_range(start='2023-01-01', periods=50, freq='D')\n",
    "customer_ids = np.random.choice(range(1, 51), size=50)\n",
    "energy_usage = np.random.uniform(10, 50, size=50)  # Simulate energy usage in kWh\n",
    "\n",
    "# Create DataFrame for energy consumption\n",
    "df_energy_consumption = pd.DataFrame({\n",
    "    'timestamp': timestamps,\n",
    "    'customer_id': customer_ids,\n",
    "    'energy_usage_kWh': energy_usage\n",
    "})\n",
    "\n",
    "# Display the DataFrame\n",
    "print(\"\\nEnergy Consumption Table:\")\n",
    "print(df_energy_consumption.head())\n"
   ]
  },
  {
   "cell_type": "code",
   "execution_count": 18,
   "metadata": {},
   "outputs": [
    {
     "name": "stdout",
     "output_type": "stream",
     "text": [
      "\n",
      "Customer Feedback Table:\n",
      "  feedback_date  customer_id  rating  \\\n",
      "0    2023-01-01           28       4   \n",
      "1    2023-01-08           46       2   \n",
      "2    2023-01-15            8       3   \n",
      "3    2023-01-22           40       5   \n",
      "4    2023-01-29           22       4   \n",
      "\n",
      "                                          comments  \n",
      "0                    General I particular someone.  \n",
      "1              Painting food nothing land deep by.  \n",
      "2  Rock seven visit team. Stuff service play dark.  \n",
      "3                    Develop kid design human why.  \n",
      "4                           Picture perform carry.  \n"
     ]
    }
   ],
   "source": [
    "# Generate data for customer feedback\n",
    "feedback_dates = pd.date_range(start='2023-01-01', periods=50, freq='W')\n",
    "customer_ids = np.random.choice(range(1, 51), size=50)\n",
    "ratings = np.random.randint(1, 6, size=50)\n",
    "comments = [fake.text(max_nb_chars=50) for _ in range(50)]\n",
    "\n",
    "# Create DataFrame for customer feedback\n",
    "df_customer_feedback = pd.DataFrame({\n",
    "    'feedback_date': feedback_dates,\n",
    "    'customer_id': customer_ids,\n",
    "    'rating': ratings,\n",
    "    'comments': comments\n",
    "})\n",
    "\n",
    "# Display the DataFrame\n",
    "print(\"\\nCustomer Feedback Table:\")\n",
    "print(df_customer_feedback.head())\n"
   ]
  },
  {
   "cell_type": "markdown",
   "metadata": {},
   "source": [
    "#### Connect to duckdb and export data into duckdb"
   ]
  },
  {
   "cell_type": "code",
   "execution_count": 9,
   "metadata": {},
   "outputs": [],
   "source": [
    "import os"
   ]
  },
  {
   "cell_type": "code",
   "execution_count": 10,
   "metadata": {},
   "outputs": [
    {
     "name": "stdout",
     "output_type": "stream",
     "text": [
      "Requirement already satisfied: duckdb in c:\\users\\olive\\appdata\\local\\programs\\python\\python312\\lib\\site-packages (0.10.0)\n",
      "Note: you may need to restart the kernel to use updated packages.\n"
     ]
    },
    {
     "name": "stderr",
     "output_type": "stream",
     "text": [
      "\n",
      "[notice] A new release of pip is available: 24.0 -> 24.1.1\n",
      "[notice] To update, run: python.exe -m pip install --upgrade pip\n"
     ]
    }
   ],
   "source": [
    "pip install duckdb"
   ]
  },
  {
   "cell_type": "code",
   "execution_count": 11,
   "metadata": {},
   "outputs": [
    {
     "ename": "ImportError",
     "evalue": "DLL load failed while importing duckdb: Le module spécifié est introuvable.",
     "output_type": "error",
     "traceback": [
      "\u001b[1;31m---------------------------------------------------------------------------\u001b[0m",
      "\u001b[1;31mImportError\u001b[0m                               Traceback (most recent call last)",
      "Cell \u001b[1;32mIn[11], line 1\u001b[0m\n\u001b[1;32m----> 1\u001b[0m \u001b[38;5;28;01mimport\u001b[39;00m \u001b[38;5;21;01mduckdb\u001b[39;00m\n",
      "File \u001b[1;32mc:\\Users\\Olive\\AppData\\Local\\Programs\\Python\\Python312\\Lib\\site-packages\\duckdb\\__init__.py:4\u001b[0m\n\u001b[0;32m      1\u001b[0m _exported_symbols \u001b[38;5;241m=\u001b[39m []\n\u001b[0;32m      3\u001b[0m \u001b[38;5;66;03m# Modules\u001b[39;00m\n\u001b[1;32m----> 4\u001b[0m \u001b[38;5;28;01mimport\u001b[39;00m \u001b[38;5;21;01mduckdb\u001b[39;00m\u001b[38;5;21;01m.\u001b[39;00m\u001b[38;5;21;01mfunctional\u001b[39;00m \u001b[38;5;28;01mas\u001b[39;00m \u001b[38;5;21;01mfunctional\u001b[39;00m\n\u001b[0;32m      5\u001b[0m \u001b[38;5;28;01mimport\u001b[39;00m \u001b[38;5;21;01mduckdb\u001b[39;00m\u001b[38;5;21;01m.\u001b[39;00m\u001b[38;5;21;01mtyping\u001b[39;00m \u001b[38;5;28;01mas\u001b[39;00m \u001b[38;5;21;01mtyping\u001b[39;00m\n\u001b[0;32m      6\u001b[0m _exported_symbols\u001b[38;5;241m.\u001b[39mextend([\n\u001b[0;32m      7\u001b[0m     \u001b[38;5;124m\"\u001b[39m\u001b[38;5;124mtyping\u001b[39m\u001b[38;5;124m\"\u001b[39m,\n\u001b[0;32m      8\u001b[0m     \u001b[38;5;124m\"\u001b[39m\u001b[38;5;124mfunctional\u001b[39m\u001b[38;5;124m\"\u001b[39m\n\u001b[0;32m      9\u001b[0m ])\n",
      "File \u001b[1;32mc:\\Users\\Olive\\AppData\\Local\\Programs\\Python\\Python312\\Lib\\site-packages\\duckdb\\functional\\__init__.py:1\u001b[0m\n\u001b[1;32m----> 1\u001b[0m \u001b[38;5;28;01mfrom\u001b[39;00m \u001b[38;5;21;01mduckdb\u001b[39;00m\u001b[38;5;21;01m.\u001b[39;00m\u001b[38;5;21;01mduckdb\u001b[39;00m\u001b[38;5;21;01m.\u001b[39;00m\u001b[38;5;21;01mfunctional\u001b[39;00m \u001b[38;5;28;01mimport\u001b[39;00m (\n\u001b[0;32m      2\u001b[0m \tFunctionNullHandling,\n\u001b[0;32m      3\u001b[0m \tPythonUDFType,\n\u001b[0;32m      4\u001b[0m \tSPECIAL,\n\u001b[0;32m      5\u001b[0m \tDEFAULT,\n\u001b[0;32m      6\u001b[0m \tNATIVE,\n\u001b[0;32m      7\u001b[0m \tARROW\n\u001b[0;32m      8\u001b[0m )\n\u001b[0;32m     10\u001b[0m __all__ \u001b[38;5;241m=\u001b[39m [\n\u001b[0;32m     11\u001b[0m \t\u001b[38;5;124m\"\u001b[39m\u001b[38;5;124mFunctionNullHandling\u001b[39m\u001b[38;5;124m\"\u001b[39m,\n\u001b[0;32m     12\u001b[0m \t\u001b[38;5;124m\"\u001b[39m\u001b[38;5;124mPythonUDFType\u001b[39m\u001b[38;5;124m\"\u001b[39m,\n\u001b[1;32m   (...)\u001b[0m\n\u001b[0;32m     16\u001b[0m \t\u001b[38;5;124m\"\u001b[39m\u001b[38;5;124mARROW\u001b[39m\u001b[38;5;124m\"\u001b[39m\n\u001b[0;32m     17\u001b[0m ]\n",
      "\u001b[1;31mImportError\u001b[0m: DLL load failed while importing duckdb: Le module spécifié est introuvable."
     ]
    }
   ],
   "source": [
    "import duckdb\n"
   ]
  },
  {
   "cell_type": "code",
   "execution_count": 42,
   "metadata": {},
   "outputs": [],
   "source": [
    "# Adjust the path for the DuckDB file one level above the current directory\n",
    "req_path = os.path.join(os.path.dirname(current_dir), 'requirements.txt')"
   ]
  },
  {
   "cell_type": "code",
   "execution_count": 44,
   "metadata": {},
   "outputs": [
    {
     "name": "stdout",
     "output_type": "stream",
     "text": [
      "Collecting agate==1.7.1 (from -r requirements.txt (line 7))\n",
      "  Using cached agate-1.7.1-py2.py3-none-any.whl.metadata (3.1 kB)\n",
      "Collecting annotated-types==0.6.0 (from -r requirements.txt (line 9))\n",
      "  Using cached annotated_types-0.6.0-py3-none-any.whl.metadata (12 kB)\n",
      "Collecting appdirs==1.4.4 (from -r requirements.txt (line 11))\n",
      "  Using cached appdirs-1.4.4-py2.py3-none-any.whl.metadata (9.0 kB)\n",
      "Collecting attrs==23.2.0 (from -r requirements.txt (line 13))\n",
      "  Using cached attrs-23.2.0-py3-none-any.whl.metadata (9.5 kB)\n",
      "Collecting babel==2.14.0 (from -r requirements.txt (line 17))\n",
      "  Using cached Babel-2.14.0-py3-none-any.whl.metadata (1.6 kB)\n",
      "Collecting certifi==2024.2.2 (from -r requirements.txt (line 19))\n",
      "  Using cached certifi-2024.2.2-py3-none-any.whl.metadata (2.2 kB)\n",
      "Collecting cffi==1.16.0 (from -r requirements.txt (line 21))\n",
      "  Downloading cffi-1.16.0-cp312-cp312-win_amd64.whl.metadata (1.5 kB)\n",
      "Collecting chardet==5.2.0 (from -r requirements.txt (line 23))\n",
      "  Using cached chardet-5.2.0-py3-none-any.whl.metadata (3.4 kB)\n",
      "Collecting charset-normalizer==3.3.2 (from -r requirements.txt (line 27))\n",
      "  Downloading charset_normalizer-3.3.2-cp312-cp312-win_amd64.whl.metadata (34 kB)\n",
      "Collecting cli-helpers==2.3.1 (from cli-helpers[styles]==2.3.1->-r requirements.txt (line 29))\n",
      "  Using cached cli_helpers-2.3.1-py3-none-any.whl.metadata (2.4 kB)\n",
      "Collecting click==8.1.7 (from -r requirements.txt (line 31))\n",
      "  Using cached click-8.1.7-py3-none-any.whl.metadata (3.0 kB)\n",
      "Requirement already satisfied: colorama==0.4.6 in c:\\users\\olive\\appdata\\roaming\\python\\python312\\site-packages (from -r requirements.txt (line 37)) (0.4.6)\n",
      "Collecting configobj==5.0.8 (from -r requirements.txt (line 41))\n",
      "  Using cached configobj-5.0.8-py2.py3-none-any.whl.metadata (3.4 kB)\n",
      "Collecting dbt-core==1.7.9 (from -r requirements.txt (line 45))\n",
      "  Using cached dbt_core-1.7.9-py3-none-any.whl.metadata (4.0 kB)\n",
      "Collecting dbt-duckdb==1.7.3 (from -r requirements.txt (line 49))\n",
      "  Using cached dbt_duckdb-1.7.3-py3-none-any.whl.metadata (23 kB)\n",
      "Collecting dbt-extractor==0.5.1 (from -r requirements.txt (line 51))\n",
      "  Using cached dbt_extractor-0.5.1-cp38-abi3-win_amd64.whl.metadata (4.3 kB)\n",
      "Collecting dbt-semantic-interfaces==0.4.4 (from -r requirements.txt (line 53))\n",
      "  Using cached dbt_semantic_interfaces-0.4.4-py3-none-any.whl.metadata (2.5 kB)\n",
      "Collecting diff-cover==8.0.3 (from -r requirements.txt (line 55))\n",
      "  Downloading diff_cover-8.0.3-py3-none-any.whl.metadata (17 kB)\n",
      "Collecting duckcli==0.2.1 (from -r requirements.txt (line 57))\n",
      "  Downloading duckcli-0.2.1-py2.py3-none-any.whl.metadata (1.8 kB)\n",
      "Collecting duckdb==0.10.0 (from -r requirements.txt (line 59))\n",
      "  Downloading duckdb-0.10.0-cp312-cp312-win_amd64.whl.metadata (782 bytes)\n",
      "Collecting exceptiongroup==1.2.0 (from -r requirements.txt (line 63))\n",
      "  Downloading exceptiongroup-1.2.0-py3-none-any.whl.metadata (6.6 kB)\n",
      "Collecting idna==3.6 (from -r requirements.txt (line 65))\n",
      "  Downloading idna-3.6-py3-none-any.whl.metadata (9.9 kB)\n",
      "Collecting importlib-metadata==6.11.0 (from -r requirements.txt (line 69))\n",
      "  Using cached importlib_metadata-6.11.0-py3-none-any.whl.metadata (4.9 kB)\n",
      "Collecting importlib-resources==6.1.3 (from -r requirements.txt (line 71))\n",
      "  Downloading importlib_resources-6.1.3-py3-none-any.whl.metadata (3.9 kB)\n",
      "Collecting iniconfig==2.0.0 (from -r requirements.txt (line 76))\n",
      "  Downloading iniconfig-2.0.0-py3-none-any.whl.metadata (2.6 kB)\n",
      "Collecting isodate==0.6.1 (from -r requirements.txt (line 78))\n",
      "  Using cached isodate-0.6.1-py2.py3-none-any.whl.metadata (9.6 kB)\n",
      "Collecting jinja2==3.1.3 (from -r requirements.txt (line 82))\n",
      "  Downloading Jinja2-3.1.3-py3-none-any.whl.metadata (3.3 kB)\n",
      "Collecting jsonschema==4.21.1 (from -r requirements.txt (line 88))\n",
      "  Downloading jsonschema-4.21.1-py3-none-any.whl.metadata (7.8 kB)\n",
      "Collecting jsonschema-specifications==2023.12.1 (from -r requirements.txt (line 92))\n",
      "  Using cached jsonschema_specifications-2023.12.1-py3-none-any.whl.metadata (3.0 kB)\n",
      "Collecting leather==0.4.0 (from -r requirements.txt (line 94))\n",
      "  Using cached leather-0.4.0-py2.py3-none-any.whl.metadata (2.8 kB)\n",
      "Collecting logbook==1.5.3 (from -r requirements.txt (line 96))\n",
      "  Downloading Logbook-1.5.3.tar.gz (85 kB)\n",
      "     ---------------------------------------- 0.0/85.8 kB ? eta -:--:--\n",
      "     ---------------------------------------- 85.8/85.8 kB 4.7 MB/s eta 0:00:00\n",
      "  Installing build dependencies: started\n",
      "  Installing build dependencies: finished with status 'done'\n",
      "  Getting requirements to build wheel: started\n",
      "  Getting requirements to build wheel: finished with status 'done'\n",
      "  Preparing metadata (pyproject.toml): started\n",
      "  Preparing metadata (pyproject.toml): finished with status 'done'\n",
      "Collecting markupsafe==2.1.5 (from -r requirements.txt (line 98))\n",
      "  Downloading MarkupSafe-2.1.5-cp312-cp312-win_amd64.whl.metadata (3.1 kB)\n",
      "Collecting mashumaro==3.12 (from mashumaro[msgpack]==3.12->-r requirements.txt (line 100))\n",
      "  Downloading mashumaro-3.12-py3-none-any.whl.metadata (111 kB)\n",
      "     ---------------------------------------- 0.0/111.1 kB ? eta -:--:--\n",
      "     -------------------------------------- 111.1/111.1 kB 6.7 MB/s eta 0:00:00\n",
      "Collecting minimal-snowplow-tracker==0.0.2 (from -r requirements.txt (line 102))\n",
      "  Downloading minimal-snowplow-tracker-0.0.2.tar.gz (12 kB)\n",
      "  Installing build dependencies: started\n",
      "  Installing build dependencies: finished with status 'done'\n",
      "  Getting requirements to build wheel: started\n",
      "  Getting requirements to build wheel: finished with status 'done'\n",
      "  Preparing metadata (pyproject.toml): started\n",
      "  Preparing metadata (pyproject.toml): finished with status 'done'\n",
      "Collecting more-itertools==10.2.0 (from -r requirements.txt (line 104))\n",
      "  Downloading more_itertools-10.2.0-py3-none-any.whl.metadata (34 kB)\n",
      "Collecting msgpack==1.0.8 (from -r requirements.txt (line 106))\n",
      "  Downloading msgpack-1.0.8-cp312-cp312-win_amd64.whl.metadata (9.4 kB)\n",
      "Collecting networkx==3.1 (from -r requirements.txt (line 108))\n",
      "  Using cached networkx-3.1-py3-none-any.whl.metadata (5.3 kB)\n",
      "Collecting packaging==24.0 (from -r requirements.txt (line 110))\n",
      "  Downloading packaging-24.0-py3-none-any.whl.metadata (3.2 kB)\n",
      "Collecting parsedatetime==2.6 (from -r requirements.txt (line 114))\n",
      "  Using cached parsedatetime-2.6-py3-none-any.whl.metadata (4.7 kB)\n",
      "Collecting pathspec==0.11.2 (from -r requirements.txt (line 116))\n",
      "  Downloading pathspec-0.11.2-py3-none-any.whl.metadata (19 kB)\n",
      "Collecting pkgutil-resolve-name==1.3.10 (from -r requirements.txt (line 120))\n",
      "  Using cached pkgutil_resolve_name-1.3.10-py3-none-any.whl.metadata (624 bytes)\n",
      "Collecting pluggy==1.4.0 (from -r requirements.txt (line 122))\n",
      "  Downloading pluggy-1.4.0-py3-none-any.whl.metadata (4.3 kB)\n",
      "Collecting prompt-toolkit==3.0.43 (from -r requirements.txt (line 126))\n",
      "  Downloading prompt_toolkit-3.0.43-py3-none-any.whl.metadata (6.5 kB)\n",
      "Collecting protobuf==4.25.3 (from -r requirements.txt (line 128))\n",
      "  Downloading protobuf-4.25.3-cp310-abi3-win_amd64.whl.metadata (541 bytes)\n",
      "Collecting pycparser==2.21 (from -r requirements.txt (line 130))\n",
      "  Downloading pycparser-2.21-py2.py3-none-any.whl.metadata (1.1 kB)\n",
      "Collecting pydantic==2.6.3 (from -r requirements.txt (line 132))\n",
      "  Downloading pydantic-2.6.3-py3-none-any.whl.metadata (84 kB)\n",
      "     ---------------------------------------- 0.0/84.4 kB ? eta -:--:--\n",
      "     ---------------------------------------- 84.4/84.4 kB 4.6 MB/s eta 0:00:00\n",
      "Collecting pydantic-core==2.16.3 (from -r requirements.txt (line 134))\n",
      "  Downloading pydantic_core-2.16.3-cp312-none-win_amd64.whl.metadata (6.6 kB)\n",
      "Collecting pygments==2.17.2 (from -r requirements.txt (line 136))\n",
      "  Downloading pygments-2.17.2-py3-none-any.whl.metadata (2.6 kB)\n",
      "Collecting pytest==8.1.1 (from -r requirements.txt (line 141))\n",
      "  Downloading pytest-8.1.1-py3-none-any.whl.metadata (7.6 kB)\n",
      "Requirement already satisfied: python-dateutil==2.9.0.post0 in c:\\users\\olive\\appdata\\roaming\\python\\python312\\site-packages (from -r requirements.txt (line 143)) (2.9.0.post0)\n",
      "Collecting python-slugify==8.0.4 (from -r requirements.txt (line 145))\n",
      "  Using cached python_slugify-8.0.4-py2.py3-none-any.whl.metadata (8.5 kB)\n",
      "Collecting pytimeparse==1.1.8 (from -r requirements.txt (line 147))\n",
      "  Using cached pytimeparse-1.1.8-py2.py3-none-any.whl.metadata (3.4 kB)\n",
      "Requirement already satisfied: pytz==2024.1 in c:\\users\\olive\\appdata\\local\\programs\\python\\python312\\lib\\site-packages (from -r requirements.txt (line 149)) (2024.1)\n",
      "Collecting pyyaml==6.0.1 (from -r requirements.txt (line 153))\n",
      "  Downloading PyYAML-6.0.1-cp312-cp312-win_amd64.whl.metadata (2.1 kB)\n",
      "Collecting referencing==0.33.0 (from -r requirements.txt (line 158))\n",
      "  Downloading referencing-0.33.0-py3-none-any.whl.metadata (2.7 kB)\n",
      "Collecting regex==2023.12.25 (from -r requirements.txt (line 162))\n",
      "  Downloading regex-2023.12.25-cp312-cp312-win_amd64.whl.metadata (41 kB)\n",
      "     ---------------------------------------- 0.0/42.0 kB ? eta -:--:--\n",
      "     ---------------------------------------- 42.0/42.0 kB 2.0 MB/s eta 0:00:00\n",
      "Collecting requests==2.31.0 (from -r requirements.txt (line 164))\n",
      "  Downloading requests-2.31.0-py3-none-any.whl.metadata (4.6 kB)\n",
      "Collecting rpds-py==0.18.0 (from -r requirements.txt (line 168))\n",
      "  Downloading rpds_py-0.18.0-cp312-none-win_amd64.whl.metadata (4.2 kB)\n",
      "Requirement already satisfied: six==1.16.0 in c:\\users\\olive\\appdata\\roaming\\python\\python312\\site-packages (from -r requirements.txt (line 172)) (1.16.0)\n",
      "Collecting sqlfluff==2.3.5 (from -r requirements.txt (line 178))\n",
      "  Downloading sqlfluff-2.3.5-py3-none-any.whl.metadata (10 kB)\n",
      "Collecting sqlparse==0.4.4 (from -r requirements.txt (line 180))\n",
      "  Downloading sqlparse-0.4.4-py3-none-any.whl.metadata (4.0 kB)\n",
      "Collecting tabulate==0.9.0 (from tabulate[widechars]==0.9.0->-r requirements.txt (line 184))\n",
      "  Downloading tabulate-0.9.0-py3-none-any.whl.metadata (34 kB)\n",
      "Collecting tblib==3.0.0 (from -r requirements.txt (line 186))\n",
      "  Downloading tblib-3.0.0-py3-none-any.whl.metadata (25 kB)\n",
      "Collecting text-unidecode==1.3 (from -r requirements.txt (line 188))\n",
      "  Using cached text_unidecode-1.3-py2.py3-none-any.whl.metadata (2.4 kB)\n",
      "Collecting toml==0.10.2 (from -r requirements.txt (line 190))\n",
      "  Downloading toml-0.10.2-py2.py3-none-any.whl.metadata (7.1 kB)\n",
      "Collecting tomli==2.0.1 (from -r requirements.txt (line 192))\n",
      "  Downloading tomli-2.0.1-py3-none-any.whl.metadata (8.9 kB)\n",
      "Collecting tqdm==4.66.2 (from -r requirements.txt (line 194))\n",
      "  Downloading tqdm-4.66.2-py3-none-any.whl.metadata (57 kB)\n",
      "     ---------------------------------------- 0.0/57.6 kB ? eta -:--:--\n",
      "     ---------------------------------------- 57.6/57.6 kB 3.0 MB/s eta 0:00:00\n",
      "Collecting typing-extensions==4.10.0 (from -r requirements.txt (line 196))\n",
      "  Downloading typing_extensions-4.10.0-py3-none-any.whl.metadata (3.0 kB)\n",
      "Collecting urllib3==1.26.18 (from -r requirements.txt (line 205))\n",
      "  Downloading urllib3-1.26.18-py2.py3-none-any.whl.metadata (48 kB)\n",
      "     ---------------------------------------- 0.0/48.9 kB ? eta -:--:--\n",
      "     ---------------------------------------- 48.9/48.9 kB ? eta 0:00:00\n",
      "Requirement already satisfied: wcwidth==0.2.13 in c:\\users\\olive\\appdata\\roaming\\python\\python312\\site-packages (from -r requirements.txt (line 209)) (0.2.13)\n",
      "Collecting zipp==3.17.0 (from -r requirements.txt (line 213))\n",
      "  Downloading zipp-3.17.0-py3-none-any.whl.metadata (3.7 kB)\n",
      "Requirement already satisfied: faker==26.0.0 in c:\\users\\olive\\appdata\\local\\programs\\python\\python312\\lib\\site-packages (from -r requirements.txt (line 217)) (26.0.0)\n",
      "Downloading agate-1.7.1-py2.py3-none-any.whl (97 kB)\n",
      "   ---------------------------------------- 0.0/97.1 kB ? eta -:--:--\n",
      "   ---------------------------------------- 97.1/97.1 kB ? eta 0:00:00\n",
      "Downloading annotated_types-0.6.0-py3-none-any.whl (12 kB)\n",
      "Downloading appdirs-1.4.4-py2.py3-none-any.whl (9.6 kB)\n",
      "Using cached attrs-23.2.0-py3-none-any.whl (60 kB)\n",
      "Downloading Babel-2.14.0-py3-none-any.whl (11.0 MB)\n",
      "   ---------------------------------------- 0.0/11.0 MB ? eta -:--:--\n",
      "   - -------------------------------------- 0.5/11.0 MB 14.9 MB/s eta 0:00:01\n",
      "   --- ------------------------------------ 1.0/11.0 MB 12.7 MB/s eta 0:00:01\n",
      "   ----- ---------------------------------- 1.5/11.0 MB 12.2 MB/s eta 0:00:01\n",
      "   ------- -------------------------------- 2.1/11.0 MB 12.2 MB/s eta 0:00:01\n",
      "   --------- ------------------------------ 2.7/11.0 MB 12.1 MB/s eta 0:00:01\n",
      "   ----------- ---------------------------- 3.2/11.0 MB 12.0 MB/s eta 0:00:01\n",
      "   ------------- -------------------------- 3.8/11.0 MB 12.0 MB/s eta 0:00:01\n",
      "   --------------- ------------------------ 4.3/11.0 MB 12.0 MB/s eta 0:00:01\n",
      "   ----------------- ---------------------- 4.8/11.0 MB 11.9 MB/s eta 0:00:01\n",
      "   ------------------- -------------------- 5.4/11.0 MB 11.9 MB/s eta 0:00:01\n",
      "   --------------------- ------------------ 5.9/11.0 MB 11.9 MB/s eta 0:00:01\n",
      "   ----------------------- ---------------- 6.5/11.0 MB 11.8 MB/s eta 0:00:01\n",
      "   ------------------------- -------------- 7.0/11.0 MB 11.7 MB/s eta 0:00:01\n",
      "   --------------------------- ------------ 7.5/11.0 MB 11.7 MB/s eta 0:00:01\n",
      "   ----------------------------- ---------- 8.1/11.0 MB 11.7 MB/s eta 0:00:01\n",
      "   ------------------------------- -------- 8.6/11.0 MB 11.7 MB/s eta 0:00:01\n",
      "   --------------------------------- ------ 9.1/11.0 MB 11.7 MB/s eta 0:00:01\n",
      "   ----------------------------------- ---- 9.7/11.0 MB 11.7 MB/s eta 0:00:01\n",
      "   ------------------------------------- -- 10.3/11.0 MB 11.7 MB/s eta 0:00:01\n",
      "   ---------------------------------------  10.8/11.0 MB 11.7 MB/s eta 0:00:01\n",
      "   ---------------------------------------  11.0/11.0 MB 11.7 MB/s eta 0:00:01\n",
      "   ---------------------------------------  11.0/11.0 MB 11.7 MB/s eta 0:00:01\n",
      "   ---------------------------------------- 11.0/11.0 MB 10.7 MB/s eta 0:00:00\n",
      "Downloading certifi-2024.2.2-py3-none-any.whl (163 kB)\n",
      "   ---------------------------------------- 0.0/163.8 kB ? eta -:--:--\n",
      "   ---------------------------------------- 163.8/163.8 kB 5.0 MB/s eta 0:00:00\n",
      "Downloading cffi-1.16.0-cp312-cp312-win_amd64.whl (181 kB)\n",
      "   ---------------------------------------- 0.0/182.0 kB ? eta -:--:--\n",
      "   ---------------------------------------- 182.0/182.0 kB 5.5 MB/s eta 0:00:00\n",
      "Downloading chardet-5.2.0-py3-none-any.whl (199 kB)\n",
      "   ---------------------------------------- 0.0/199.4 kB ? eta -:--:--\n",
      "   ---------------------------------------- 199.4/199.4 kB 4.0 MB/s eta 0:00:00\n",
      "Downloading charset_normalizer-3.3.2-cp312-cp312-win_amd64.whl (100 kB)\n",
      "   ---------------------------------------- 0.0/100.4 kB ? eta -:--:--\n",
      "   ---------------------------------------- 100.4/100.4 kB 6.0 MB/s eta 0:00:00\n",
      "Downloading cli_helpers-2.3.1-py3-none-any.whl (19 kB)\n",
      "Using cached click-8.1.7-py3-none-any.whl (97 kB)\n",
      "Downloading configobj-5.0.8-py2.py3-none-any.whl (36 kB)\n",
      "Downloading dbt_core-1.7.9-py3-none-any.whl (1.0 MB)\n",
      "   ---------------------------------------- 0.0/1.0 MB ? eta -:--:--\n",
      "   -------------------- ------------------- 0.5/1.0 MB 11.1 MB/s eta 0:00:01\n",
      "   ---------------------------------------  1.0/1.0 MB 13.0 MB/s eta 0:00:01\n",
      "   ---------------------------------------- 1.0/1.0 MB 8.1 MB/s eta 0:00:00\n",
      "Downloading dbt_duckdb-1.7.3-py3-none-any.whl (57 kB)\n",
      "   ---------------------------------------- 0.0/57.2 kB ? eta -:--:--\n",
      "   ---------------------------------------- 57.2/57.2 kB 1.5 MB/s eta 0:00:00\n",
      "Using cached dbt_extractor-0.5.1-cp38-abi3-win_amd64.whl (283 kB)\n",
      "Downloading dbt_semantic_interfaces-0.4.4-py3-none-any.whl (118 kB)\n",
      "   ---------------------------------------- 0.0/118.6 kB ? eta -:--:--\n",
      "   ---------------------------------------- 118.6/118.6 kB 6.8 MB/s eta 0:00:00\n",
      "Downloading diff_cover-8.0.3-py3-none-any.whl (51 kB)\n",
      "   ---------------------------------------- 0.0/51.2 kB ? eta -:--:--\n",
      "   ---------------------------------------- 51.2/51.2 kB 2.7 MB/s eta 0:00:00\n",
      "Downloading duckcli-0.2.1-py2.py3-none-any.whl (46 kB)\n",
      "   ---------------------------------------- 0.0/46.2 kB ? eta -:--:--\n",
      "   ---------------------------------------- 46.2/46.2 kB 2.2 MB/s eta 0:00:00\n",
      "Downloading duckdb-0.10.0-cp312-cp312-win_amd64.whl (9.6 MB)\n",
      "   ---------------------------------------- 0.0/9.6 MB ? eta -:--:--\n",
      "   -- ------------------------------------- 0.6/9.6 MB 12.5 MB/s eta 0:00:01\n",
      "   ---- ----------------------------------- 1.0/9.6 MB 13.3 MB/s eta 0:00:01\n",
      "   ---- ----------------------------------- 1.0/9.6 MB 13.3 MB/s eta 0:00:01\n",
      "   ------ --------------------------------- 1.6/9.6 MB 8.3 MB/s eta 0:00:01\n",
      "   -------- ------------------------------- 2.1/9.6 MB 9.5 MB/s eta 0:00:01\n",
      "   --------- ------------------------------ 2.3/9.6 MB 8.2 MB/s eta 0:00:01\n",
      "   ----------- ---------------------------- 2.8/9.6 MB 9.0 MB/s eta 0:00:01\n",
      "   ------------- -------------------------- 3.1/9.6 MB 9.1 MB/s eta 0:00:01\n",
      "   -------------- ------------------------- 3.5/9.6 MB 8.5 MB/s eta 0:00:01\n",
      "   ---------------- ----------------------- 4.0/9.6 MB 8.8 MB/s eta 0:00:01\n",
      "   ----------------- ---------------------- 4.2/9.6 MB 8.9 MB/s eta 0:00:01\n",
      "   ------------------ --------------------- 4.5/9.6 MB 8.2 MB/s eta 0:00:01\n",
      "   --------------------- ------------------ 5.0/9.6 MB 8.5 MB/s eta 0:00:01\n",
      "   --------------------- ------------------ 5.2/9.6 MB 8.6 MB/s eta 0:00:01\n",
      "   ---------------------- ----------------- 5.5/9.6 MB 8.0 MB/s eta 0:00:01\n",
      "   ------------------------- -------------- 6.0/9.6 MB 8.2 MB/s eta 0:00:01\n",
      "   -------------------------- ------------- 6.3/9.6 MB 8.2 MB/s eta 0:00:01\n",
      "   ---------------------------- ----------- 6.7/9.6 MB 8.1 MB/s eta 0:00:01\n",
      "   ------------------------------ --------- 7.3/9.6 MB 8.3 MB/s eta 0:00:01\n",
      "   ------------------------------- -------- 7.5/9.6 MB 8.2 MB/s eta 0:00:01\n",
      "   --------------------------------- ------ 8.1/9.6 MB 8.3 MB/s eta 0:00:01\n",
      "   ----------------------------------- ---- 8.4/9.6 MB 8.4 MB/s eta 0:00:01\n",
      "   ------------------------------------- -- 8.9/9.6 MB 8.4 MB/s eta 0:00:01\n",
      "   ---------------------------------------  9.4/9.6 MB 8.5 MB/s eta 0:00:01\n",
      "   ---------------------------------------  9.6/9.6 MB 8.4 MB/s eta 0:00:01\n",
      "   ---------------------------------------  9.6/9.6 MB 8.4 MB/s eta 0:00:01\n",
      "   ---------------------------------------- 9.6/9.6 MB 7.8 MB/s eta 0:00:00\n",
      "Downloading exceptiongroup-1.2.0-py3-none-any.whl (16 kB)\n",
      "Downloading idna-3.6-py3-none-any.whl (61 kB)\n",
      "   ---------------------------------------- 0.0/61.6 kB ? eta -:--:--\n",
      "   ---------------------------------------- 61.6/61.6 kB 3.4 MB/s eta 0:00:00\n",
      "Using cached importlib_metadata-6.11.0-py3-none-any.whl (23 kB)\n",
      "Downloading importlib_resources-6.1.3-py3-none-any.whl (34 kB)\n",
      "Downloading iniconfig-2.0.0-py3-none-any.whl (5.9 kB)\n",
      "Using cached isodate-0.6.1-py2.py3-none-any.whl (41 kB)\n",
      "Downloading Jinja2-3.1.3-py3-none-any.whl (133 kB)\n",
      "   ---------------------------------------- 0.0/133.2 kB ? eta -:--:--\n",
      "   ---------------------------------------- 133.2/133.2 kB 8.2 MB/s eta 0:00:00\n",
      "Downloading jsonschema-4.21.1-py3-none-any.whl (85 kB)\n",
      "   ---------------------------------------- 0.0/85.5 kB ? eta -:--:--\n",
      "   ---------------------------------------- 85.5/85.5 kB ? eta 0:00:00\n",
      "Using cached jsonschema_specifications-2023.12.1-py3-none-any.whl (18 kB)\n",
      "Using cached leather-0.4.0-py2.py3-none-any.whl (30 kB)\n",
      "Downloading MarkupSafe-2.1.5-cp312-cp312-win_amd64.whl (17 kB)\n",
      "Downloading mashumaro-3.12-py3-none-any.whl (89 kB)\n",
      "   ---------------------------------------- 0.0/89.9 kB ? eta -:--:--\n",
      "   ---------------------------------------- 89.9/89.9 kB 5.3 MB/s eta 0:00:00\n",
      "Downloading more_itertools-10.2.0-py3-none-any.whl (57 kB)\n",
      "   ---------------------------------------- 0.0/57.0 kB ? eta -:--:--\n",
      "   ---------------------------------------- 57.0/57.0 kB ? eta 0:00:00\n",
      "Downloading msgpack-1.0.8-cp312-cp312-win_amd64.whl (75 kB)\n",
      "   ---------------------------------------- 0.0/75.3 kB ? eta -:--:--\n",
      "   ---------------------------------------- 75.3/75.3 kB 4.3 MB/s eta 0:00:00\n",
      "Using cached networkx-3.1-py3-none-any.whl (2.1 MB)\n",
      "Downloading packaging-24.0-py3-none-any.whl (53 kB)\n",
      "   ---------------------------------------- 0.0/53.5 kB ? eta -:--:--\n",
      "   ---------------------------------------- 53.5/53.5 kB ? eta 0:00:00\n",
      "Using cached parsedatetime-2.6-py3-none-any.whl (42 kB)\n",
      "Downloading pathspec-0.11.2-py3-none-any.whl (29 kB)\n",
      "Using cached pkgutil_resolve_name-1.3.10-py3-none-any.whl (4.7 kB)\n",
      "Downloading pluggy-1.4.0-py3-none-any.whl (20 kB)\n",
      "Downloading prompt_toolkit-3.0.43-py3-none-any.whl (386 kB)\n",
      "   ---------------------------------------- 0.0/386.1 kB ? eta -:--:--\n",
      "   --------------------------------------  378.9/386.1 kB 11.9 MB/s eta 0:00:01\n",
      "   --------------------------------------- 386.1/386.1 kB 12.1 MB/s eta 0:00:00\n",
      "Downloading protobuf-4.25.3-cp310-abi3-win_amd64.whl (413 kB)\n",
      "   ---------------------------------------- 0.0/413.4 kB ? eta -:--:--\n",
      "   ---------------------------------------- 413.4/413.4 kB 8.6 MB/s eta 0:00:00\n",
      "Downloading pycparser-2.21-py2.py3-none-any.whl (118 kB)\n",
      "   ---------------------------------------- 0.0/118.7 kB ? eta -:--:--\n",
      "   ---------------------------------------- 118.7/118.7 kB 6.8 MB/s eta 0:00:00\n",
      "Downloading pydantic-2.6.3-py3-none-any.whl (395 kB)\n",
      "   ---------------------------------------- 0.0/395.2 kB ? eta -:--:--\n",
      "   --------------------------------------  389.1/395.2 kB 12.2 MB/s eta 0:00:01\n",
      "   ---------------------------------------- 395.2/395.2 kB 8.2 MB/s eta 0:00:00\n",
      "Downloading pydantic_core-2.16.3-cp312-none-win_amd64.whl (1.9 MB)\n",
      "   ---------------------------------------- 0.0/1.9 MB ? eta -:--:--\n",
      "   ----------- ---------------------------- 0.5/1.9 MB 11.1 MB/s eta 0:00:01\n",
      "   ----------------------- ---------------- 1.1/1.9 MB 11.6 MB/s eta 0:00:01\n",
      "   ---------------------------------- ----- 1.6/1.9 MB 11.6 MB/s eta 0:00:01\n",
      "   ---------------------------------------- 1.9/1.9 MB 9.9 MB/s eta 0:00:00\n",
      "Downloading pygments-2.17.2-py3-none-any.whl (1.2 MB)\n",
      "   ---------------------------------------- 0.0/1.2 MB ? eta -:--:--\n",
      "   -------------- ------------------------- 0.4/1.2 MB 13.9 MB/s eta 0:00:01\n",
      "   --------------------------------- ------ 1.0/1.2 MB 12.6 MB/s eta 0:00:01\n",
      "   ---------------------------------------- 1.2/1.2 MB 9.4 MB/s eta 0:00:00\n",
      "Downloading pytest-8.1.1-py3-none-any.whl (337 kB)\n",
      "   ---------------------------------------- 0.0/337.4 kB ? eta -:--:--\n",
      "   --------------------------------------- 337.4/337.4 kB 10.2 MB/s eta 0:00:00\n",
      "Using cached python_slugify-8.0.4-py2.py3-none-any.whl (10 kB)\n",
      "Using cached pytimeparse-1.1.8-py2.py3-none-any.whl (10.0 kB)\n",
      "Downloading PyYAML-6.0.1-cp312-cp312-win_amd64.whl (138 kB)\n",
      "   ---------------------------------------- 0.0/138.7 kB ? eta -:--:--\n",
      "   ---------------------------------------- 138.7/138.7 kB 8.6 MB/s eta 0:00:00\n",
      "Downloading referencing-0.33.0-py3-none-any.whl (26 kB)\n",
      "Downloading regex-2023.12.25-cp312-cp312-win_amd64.whl (268 kB)\n",
      "   ---------------------------------------- 0.0/268.9 kB ? eta -:--:--\n",
      "   ---------------------------------------- 268.9/268.9 kB 8.3 MB/s eta 0:00:00\n",
      "Downloading requests-2.31.0-py3-none-any.whl (62 kB)\n",
      "   ---------------------------------------- 0.0/62.6 kB ? eta -:--:--\n",
      "   ---------------------------------------- 62.6/62.6 kB 3.5 MB/s eta 0:00:00\n",
      "Downloading rpds_py-0.18.0-cp312-none-win_amd64.whl (206 kB)\n",
      "   ---------------------------------------- 0.0/206.3 kB ? eta -:--:--\n",
      "   ---------------------------------------- 206.3/206.3 kB 6.3 MB/s eta 0:00:00\n",
      "Downloading sqlfluff-2.3.5-py3-none-any.whl (724 kB)\n",
      "   ---------------------------------------- 0.0/725.0 kB ? eta -:--:--\n",
      "   ------------------------- ------------- 481.3/725.0 kB 15.2 MB/s eta 0:00:01\n",
      "   --------------------------------------- 725.0/725.0 kB 11.5 MB/s eta 0:00:00\n",
      "Downloading sqlparse-0.4.4-py3-none-any.whl (41 kB)\n",
      "   ---------------------------------------- 0.0/41.2 kB ? eta -:--:--\n",
      "   ---------------------------------------- 41.2/41.2 kB 1.9 MB/s eta 0:00:00\n",
      "Downloading tabulate-0.9.0-py3-none-any.whl (35 kB)\n",
      "Downloading tblib-3.0.0-py3-none-any.whl (12 kB)\n",
      "Using cached text_unidecode-1.3-py2.py3-none-any.whl (78 kB)\n",
      "Downloading toml-0.10.2-py2.py3-none-any.whl (16 kB)\n",
      "Downloading tomli-2.0.1-py3-none-any.whl (12 kB)\n",
      "Downloading tqdm-4.66.2-py3-none-any.whl (78 kB)\n",
      "   ---------------------------------------- 0.0/78.3 kB ? eta -:--:--\n",
      "   ---------------------------------------- 78.3/78.3 kB 4.5 MB/s eta 0:00:00\n",
      "Downloading typing_extensions-4.10.0-py3-none-any.whl (33 kB)\n",
      "Downloading urllib3-1.26.18-py2.py3-none-any.whl (143 kB)\n",
      "   ---------------------------------------- 0.0/143.8 kB ? eta -:--:--\n",
      "   ---------------------------------------- 143.8/143.8 kB 4.3 MB/s eta 0:00:00\n",
      "Downloading zipp-3.17.0-py3-none-any.whl (7.4 kB)\n",
      "Building wheels for collected packages: logbook, minimal-snowplow-tracker\n",
      "  Building wheel for logbook (pyproject.toml): started\n",
      "  Building wheel for logbook (pyproject.toml): finished with status 'done'\n",
      "  Created wheel for logbook: filename=Logbook-1.5.3-cp312-cp312-win_amd64.whl size=65625 sha256=ba57821c62f6ab853a446d51e65fe85fdb72eed5705b30416c35addb0dcf04a5\n",
      "  Stored in directory: c:\\users\\olive\\appdata\\local\\pip\\cache\\wheels\\b2\\ca\\b9\\fccfcd6859915cb89f0e22dcf66ddf4ae865a65a1d0b7000ec\n",
      "  Building wheel for minimal-snowplow-tracker (pyproject.toml): started\n",
      "  Building wheel for minimal-snowplow-tracker (pyproject.toml): finished with status 'done'\n",
      "  Created wheel for minimal-snowplow-tracker: filename=minimal_snowplow_tracker-0.0.2-py3-none-any.whl size=17817 sha256=a8eaac5eeb350007ede839e949286eb2ca55e161940c829abc49e3e6ecc17f05\n",
      "  Stored in directory: c:\\users\\olive\\appdata\\local\\pip\\cache\\wheels\\b3\\56\\35\\ccc6c66312dd3e94b8346df1691c3e68fefb912f98dfad4d83\n",
      "Successfully built logbook minimal-snowplow-tracker\n",
      "Installing collected packages: text-unidecode, pytimeparse, parsedatetime, logbook, leather, appdirs, zipp, urllib3, typing-extensions, tqdm, tomli, toml, tblib, tabulate, sqlparse, rpds-py, regex, pyyaml, python-slugify, pygments, pycparser, protobuf, prompt-toolkit, pluggy, pkgutil-resolve-name, pathspec, packaging, networkx, msgpack, more-itertools, markupsafe, isodate, iniconfig, importlib-resources, idna, exceptiongroup, duckdb, dbt-extractor, configobj, click, charset-normalizer, chardet, certifi, babel, attrs, annotated-types, requests, referencing, pytest, pydantic-core, mashumaro, jinja2, importlib-metadata, cffi, agate, pydantic, minimal-snowplow-tracker, jsonschema-specifications, diff-cover, cli-helpers, sqlfluff, jsonschema, duckcli, dbt-semantic-interfaces, dbt-core, dbt-duckdb\n",
      "  Attempting uninstall: pygments\n",
      "    Found existing installation: Pygments 2.18.0\n",
      "    Uninstalling Pygments-2.18.0:\n",
      "      Successfully uninstalled Pygments-2.18.0\n",
      "  Attempting uninstall: prompt-toolkit\n",
      "    Found existing installation: prompt_toolkit 3.0.47\n",
      "    Uninstalling prompt_toolkit-3.0.47:\n",
      "      Successfully uninstalled prompt_toolkit-3.0.47\n",
      "  Attempting uninstall: packaging\n",
      "    Found existing installation: packaging 24.1\n",
      "    Uninstalling packaging-24.1:\n",
      "      Successfully uninstalled packaging-24.1\n",
      "  Attempting uninstall: duckdb\n",
      "    Found existing installation: duckdb 1.0.0\n",
      "    Uninstalling duckdb-1.0.0:\n",
      "      Successfully uninstalled duckdb-1.0.0\n",
      "Successfully installed agate-1.7.1 annotated-types-0.6.0 appdirs-1.4.4 attrs-23.2.0 babel-2.14.0 certifi-2024.2.2 cffi-1.16.0 chardet-5.2.0 charset-normalizer-3.3.2 cli-helpers-2.3.1 click-8.1.7 configobj-5.0.8 dbt-core-1.7.9 dbt-duckdb-1.7.3 dbt-extractor-0.5.1 dbt-semantic-interfaces-0.4.4 diff-cover-8.0.3 duckcli-0.2.1 duckdb-0.10.0 exceptiongroup-1.2.0 idna-3.6 importlib-metadata-6.11.0 importlib-resources-6.1.3 iniconfig-2.0.0 isodate-0.6.1 jinja2-3.1.3 jsonschema-4.21.1 jsonschema-specifications-2023.12.1 leather-0.4.0 logbook-1.5.3 markupsafe-2.1.5 mashumaro-3.12 minimal-snowplow-tracker-0.0.2 more-itertools-10.2.0 msgpack-1.0.8 networkx-3.1 packaging-24.0 parsedatetime-2.6 pathspec-0.11.2 pkgutil-resolve-name-1.3.10 pluggy-1.4.0 prompt-toolkit-3.0.43 protobuf-4.25.3 pycparser-2.21 pydantic-2.6.3 pydantic-core-2.16.3 pygments-2.17.2 pytest-8.1.1 python-slugify-8.0.4 pytimeparse-1.1.8 pyyaml-6.0.1 referencing-0.33.0 regex-2023.12.25 requests-2.31.0 rpds-py-0.18.0 sqlfluff-2.3.5 sqlparse-0.4.4 tabulate-0.9.0 tblib-3.0.0 text-unidecode-1.3 toml-0.10.2 tomli-2.0.1 tqdm-4.66.2 typing-extensions-4.10.0 urllib3-1.26.18 zipp-3.17.0\n",
      "Note: you may need to restart the kernel to use updated packages.\n"
     ]
    },
    {
     "name": "stderr",
     "output_type": "stream",
     "text": [
      "  WARNING: The script tqdm.exe is installed in 'c:\\Users\\Olive\\AppData\\Local\\Programs\\Python\\Python312\\Scripts' which is not on PATH.\n",
      "  Consider adding this directory to PATH or, if you prefer to suppress this warning, use --no-warn-script-location.\n",
      "  WARNING: The script tabulate.exe is installed in 'c:\\Users\\Olive\\AppData\\Local\\Programs\\Python\\Python312\\Scripts' which is not on PATH.\n",
      "  Consider adding this directory to PATH or, if you prefer to suppress this warning, use --no-warn-script-location.\n",
      "  WARNING: The script sqlformat.exe is installed in 'c:\\Users\\Olive\\AppData\\Local\\Programs\\Python\\Python312\\Scripts' which is not on PATH.\n",
      "  Consider adding this directory to PATH or, if you prefer to suppress this warning, use --no-warn-script-location.\n",
      "  WARNING: The script slugify.exe is installed in 'c:\\Users\\Olive\\AppData\\Local\\Programs\\Python\\Python312\\Scripts' which is not on PATH.\n",
      "  Consider adding this directory to PATH or, if you prefer to suppress this warning, use --no-warn-script-location.\n",
      "  WARNING: The script pygmentize.exe is installed in 'c:\\Users\\Olive\\AppData\\Local\\Programs\\Python\\Python312\\Scripts' which is not on PATH.\n",
      "  Consider adding this directory to PATH or, if you prefer to suppress this warning, use --no-warn-script-location.\n",
      "  WARNING: The script normalizer.exe is installed in 'c:\\Users\\Olive\\AppData\\Local\\Programs\\Python\\Python312\\Scripts' which is not on PATH.\n",
      "  Consider adding this directory to PATH or, if you prefer to suppress this warning, use --no-warn-script-location.\n",
      "  WARNING: The script chardetect.exe is installed in 'c:\\Users\\Olive\\AppData\\Local\\Programs\\Python\\Python312\\Scripts' which is not on PATH.\n",
      "  Consider adding this directory to PATH or, if you prefer to suppress this warning, use --no-warn-script-location.\n",
      "  WARNING: The script pybabel.exe is installed in 'c:\\Users\\Olive\\AppData\\Local\\Programs\\Python\\Python312\\Scripts' which is not on PATH.\n",
      "  Consider adding this directory to PATH or, if you prefer to suppress this warning, use --no-warn-script-location.\n",
      "  WARNING: The scripts py.test.exe and pytest.exe are installed in 'c:\\Users\\Olive\\AppData\\Local\\Programs\\Python\\Python312\\Scripts' which is not on PATH.\n",
      "  Consider adding this directory to PATH or, if you prefer to suppress this warning, use --no-warn-script-location.\n",
      "  WARNING: The scripts diff-cover.exe and diff-quality.exe are installed in 'c:\\Users\\Olive\\AppData\\Local\\Programs\\Python\\Python312\\Scripts' which is not on PATH.\n",
      "  Consider adding this directory to PATH or, if you prefer to suppress this warning, use --no-warn-script-location.\n",
      "  WARNING: The script sqlfluff.exe is installed in 'c:\\Users\\Olive\\AppData\\Local\\Programs\\Python\\Python312\\Scripts' which is not on PATH.\n",
      "  Consider adding this directory to PATH or, if you prefer to suppress this warning, use --no-warn-script-location.\n",
      "  WARNING: The script jsonschema.exe is installed in 'c:\\Users\\Olive\\AppData\\Local\\Programs\\Python\\Python312\\Scripts' which is not on PATH.\n",
      "  Consider adding this directory to PATH or, if you prefer to suppress this warning, use --no-warn-script-location.\n",
      "  WARNING: The script duckcli.exe is installed in 'c:\\Users\\Olive\\AppData\\Local\\Programs\\Python\\Python312\\Scripts' which is not on PATH.\n",
      "  Consider adding this directory to PATH or, if you prefer to suppress this warning, use --no-warn-script-location.\n",
      "  WARNING: The script dbt.exe is installed in 'c:\\Users\\Olive\\AppData\\Local\\Programs\\Python\\Python312\\Scripts' which is not on PATH.\n",
      "  Consider adding this directory to PATH or, if you prefer to suppress this warning, use --no-warn-script-location.\n",
      "\n",
      "[notice] A new release of pip is available: 24.0 -> 24.1.1\n",
      "[notice] To update, run: python.exe -m pip install --upgrade pip\n"
     ]
    }
   ],
   "source": [
    "pip install -r requirements.txt"
   ]
  },
  {
   "cell_type": "code",
   "execution_count": 46,
   "metadata": {},
   "outputs": [
    {
     "name": "stdout",
     "output_type": "stream",
     "text": [
      "Note: you may need to restart the kernel to use updated packages.\n"
     ]
    },
    {
     "name": "stderr",
     "output_type": "stream",
     "text": [
      "ERROR: Could not find a version that satisfies the requirement sqlite3 (from versions: none)\n",
      "ERROR: No matching distribution found for sqlite3\n",
      "\n",
      "[notice] A new release of pip is available: 24.0 -> 24.1.1\n",
      "[notice] To update, run: python.exe -m pip install --upgrade pip\n"
     ]
    }
   ],
   "source": [
    "pip install sqlite3"
   ]
  },
  {
   "cell_type": "code",
   "execution_count": 47,
   "metadata": {},
   "outputs": [],
   "source": [
    "import sqlite3"
   ]
  },
  {
   "cell_type": "code",
   "execution_count": 15,
   "metadata": {},
   "outputs": [
    {
     "name": "stdout",
     "output_type": "stream",
     "text": [
      "Requirement already satisfied: dbt-duckdb in c:\\users\\olive\\appdata\\local\\programs\\python\\python312\\lib\\site-packages (1.7.3)\n",
      "Requirement already satisfied: dbt-core~=1.7.0 in c:\\users\\olive\\appdata\\local\\programs\\python\\python312\\lib\\site-packages (from dbt-duckdb) (1.7.9)\n",
      "Requirement already satisfied: duckdb>=0.7.0 in c:\\users\\olive\\appdata\\local\\programs\\python\\python312\\lib\\site-packages (from dbt-duckdb) (0.10.0)\n",
      "Requirement already satisfied: agate~=1.7.0 in c:\\users\\olive\\appdata\\local\\programs\\python\\python312\\lib\\site-packages (from dbt-core~=1.7.0->dbt-duckdb) (1.7.1)\n",
      "Requirement already satisfied: Jinja2<4,>=3.1.3 in c:\\users\\olive\\appdata\\local\\programs\\python\\python312\\lib\\site-packages (from dbt-core~=1.7.0->dbt-duckdb) (3.1.3)\n",
      "Requirement already satisfied: mashumaro~=3.9 in c:\\users\\olive\\appdata\\local\\programs\\python\\python312\\lib\\site-packages (from mashumaro[msgpack]~=3.9->dbt-core~=1.7.0->dbt-duckdb) (3.12)\n",
      "Requirement already satisfied: logbook<1.6,>=1.5 in c:\\users\\olive\\appdata\\local\\programs\\python\\python312\\lib\\site-packages (from dbt-core~=1.7.0->dbt-duckdb) (1.5.3)\n",
      "Requirement already satisfied: click<9,>=8.0.2 in c:\\users\\olive\\appdata\\local\\programs\\python\\python312\\lib\\site-packages (from dbt-core~=1.7.0->dbt-duckdb) (8.1.7)\n",
      "Requirement already satisfied: networkx<4,>=2.3 in c:\\users\\olive\\appdata\\local\\programs\\python\\python312\\lib\\site-packages (from dbt-core~=1.7.0->dbt-duckdb) (3.1)\n",
      "Requirement already satisfied: colorama<0.5,>=0.3.9 in c:\\users\\olive\\appdata\\roaming\\python\\python312\\site-packages (from dbt-core~=1.7.0->dbt-duckdb) (0.4.6)\n",
      "Requirement already satisfied: pathspec<0.12,>=0.9 in c:\\users\\olive\\appdata\\local\\programs\\python\\python312\\lib\\site-packages (from dbt-core~=1.7.0->dbt-duckdb) (0.11.2)\n",
      "Requirement already satisfied: isodate<0.7,>=0.6 in c:\\users\\olive\\appdata\\local\\programs\\python\\python312\\lib\\site-packages (from dbt-core~=1.7.0->dbt-duckdb) (0.6.1)\n",
      "Requirement already satisfied: sqlparse<0.5,>=0.2.3 in c:\\users\\olive\\appdata\\local\\programs\\python\\python312\\lib\\site-packages (from dbt-core~=1.7.0->dbt-duckdb) (0.4.4)\n",
      "Requirement already satisfied: dbt-extractor~=0.5.0 in c:\\users\\olive\\appdata\\local\\programs\\python\\python312\\lib\\site-packages (from dbt-core~=1.7.0->dbt-duckdb) (0.5.1)\n",
      "Requirement already satisfied: minimal-snowplow-tracker~=0.0.2 in c:\\users\\olive\\appdata\\local\\programs\\python\\python312\\lib\\site-packages (from dbt-core~=1.7.0->dbt-duckdb) (0.0.2)\n",
      "Requirement already satisfied: dbt-semantic-interfaces~=0.4.2 in c:\\users\\olive\\appdata\\local\\programs\\python\\python312\\lib\\site-packages (from dbt-core~=1.7.0->dbt-duckdb) (0.4.4)\n",
      "Requirement already satisfied: jsonschema>=3.0 in c:\\users\\olive\\appdata\\local\\programs\\python\\python312\\lib\\site-packages (from dbt-core~=1.7.0->dbt-duckdb) (4.21.1)\n",
      "Requirement already satisfied: packaging>20.9 in c:\\users\\olive\\appdata\\local\\programs\\python\\python312\\lib\\site-packages (from dbt-core~=1.7.0->dbt-duckdb) (24.0)\n",
      "Requirement already satisfied: protobuf>=4.0.0 in c:\\users\\olive\\appdata\\local\\programs\\python\\python312\\lib\\site-packages (from dbt-core~=1.7.0->dbt-duckdb) (4.25.3)\n",
      "Requirement already satisfied: pytz>=2015.7 in c:\\users\\olive\\appdata\\local\\programs\\python\\python312\\lib\\site-packages (from dbt-core~=1.7.0->dbt-duckdb) (2024.1)\n",
      "Requirement already satisfied: pyyaml>=6.0 in c:\\users\\olive\\appdata\\local\\programs\\python\\python312\\lib\\site-packages (from dbt-core~=1.7.0->dbt-duckdb) (6.0.1)\n",
      "Requirement already satisfied: typing-extensions>=3.7.4 in c:\\users\\olive\\appdata\\local\\programs\\python\\python312\\lib\\site-packages (from dbt-core~=1.7.0->dbt-duckdb) (4.10.0)\n",
      "Requirement already satisfied: cffi<2.0.0,>=1.9 in c:\\users\\olive\\appdata\\local\\programs\\python\\python312\\lib\\site-packages (from dbt-core~=1.7.0->dbt-duckdb) (1.16.0)\n",
      "Requirement already satisfied: idna<4,>=2.5 in c:\\users\\olive\\appdata\\local\\programs\\python\\python312\\lib\\site-packages (from dbt-core~=1.7.0->dbt-duckdb) (3.6)\n",
      "Requirement already satisfied: requests<3.0.0 in c:\\users\\olive\\appdata\\local\\programs\\python\\python312\\lib\\site-packages (from dbt-core~=1.7.0->dbt-duckdb) (2.31.0)\n",
      "Requirement already satisfied: urllib3~=1.0 in c:\\users\\olive\\appdata\\local\\programs\\python\\python312\\lib\\site-packages (from dbt-core~=1.7.0->dbt-duckdb) (1.26.18)\n",
      "Requirement already satisfied: Babel>=2.0 in c:\\users\\olive\\appdata\\local\\programs\\python\\python312\\lib\\site-packages (from agate~=1.7.0->dbt-core~=1.7.0->dbt-duckdb) (2.14.0)\n",
      "Requirement already satisfied: leather>=0.3.2 in c:\\users\\olive\\appdata\\local\\programs\\python\\python312\\lib\\site-packages (from agate~=1.7.0->dbt-core~=1.7.0->dbt-duckdb) (0.4.0)\n",
      "Requirement already satisfied: parsedatetime!=2.5,>=2.1 in c:\\users\\olive\\appdata\\local\\programs\\python\\python312\\lib\\site-packages (from agate~=1.7.0->dbt-core~=1.7.0->dbt-duckdb) (2.6)\n",
      "Requirement already satisfied: python-slugify>=1.2.1 in c:\\users\\olive\\appdata\\local\\programs\\python\\python312\\lib\\site-packages (from agate~=1.7.0->dbt-core~=1.7.0->dbt-duckdb) (8.0.4)\n",
      "Requirement already satisfied: pytimeparse>=1.1.5 in c:\\users\\olive\\appdata\\local\\programs\\python\\python312\\lib\\site-packages (from agate~=1.7.0->dbt-core~=1.7.0->dbt-duckdb) (1.1.8)\n",
      "Requirement already satisfied: pycparser in c:\\users\\olive\\appdata\\local\\programs\\python\\python312\\lib\\site-packages (from cffi<2.0.0,>=1.9->dbt-core~=1.7.0->dbt-duckdb) (2.21)\n",
      "Requirement already satisfied: importlib-metadata~=6.0 in c:\\users\\olive\\appdata\\local\\programs\\python\\python312\\lib\\site-packages (from dbt-semantic-interfaces~=0.4.2->dbt-core~=1.7.0->dbt-duckdb) (6.11.0)\n",
      "Requirement already satisfied: more-itertools<11.0,>=8.0 in c:\\users\\olive\\appdata\\local\\programs\\python\\python312\\lib\\site-packages (from dbt-semantic-interfaces~=0.4.2->dbt-core~=1.7.0->dbt-duckdb) (10.2.0)\n",
      "Requirement already satisfied: pydantic<3,>=1.10 in c:\\users\\olive\\appdata\\local\\programs\\python\\python312\\lib\\site-packages (from dbt-semantic-interfaces~=0.4.2->dbt-core~=1.7.0->dbt-duckdb) (2.6.3)\n",
      "Requirement already satisfied: python-dateutil~=2.0 in c:\\users\\olive\\appdata\\roaming\\python\\python312\\site-packages (from dbt-semantic-interfaces~=0.4.2->dbt-core~=1.7.0->dbt-duckdb) (2.9.0.post0)\n",
      "Requirement already satisfied: six in c:\\users\\olive\\appdata\\roaming\\python\\python312\\site-packages (from isodate<0.7,>=0.6->dbt-core~=1.7.0->dbt-duckdb) (1.16.0)\n",
      "Requirement already satisfied: MarkupSafe>=2.0 in c:\\users\\olive\\appdata\\local\\programs\\python\\python312\\lib\\site-packages (from Jinja2<4,>=3.1.3->dbt-core~=1.7.0->dbt-duckdb) (2.1.5)\n",
      "Requirement already satisfied: attrs>=22.2.0 in c:\\users\\olive\\appdata\\local\\programs\\python\\python312\\lib\\site-packages (from jsonschema>=3.0->dbt-core~=1.7.0->dbt-duckdb) (23.2.0)\n",
      "Requirement already satisfied: jsonschema-specifications>=2023.03.6 in c:\\users\\olive\\appdata\\local\\programs\\python\\python312\\lib\\site-packages (from jsonschema>=3.0->dbt-core~=1.7.0->dbt-duckdb) (2023.12.1)\n",
      "Requirement already satisfied: referencing>=0.28.4 in c:\\users\\olive\\appdata\\local\\programs\\python\\python312\\lib\\site-packages (from jsonschema>=3.0->dbt-core~=1.7.0->dbt-duckdb) (0.33.0)\n",
      "Requirement already satisfied: rpds-py>=0.7.1 in c:\\users\\olive\\appdata\\local\\programs\\python\\python312\\lib\\site-packages (from jsonschema>=3.0->dbt-core~=1.7.0->dbt-duckdb) (0.18.0)\n",
      "Requirement already satisfied: msgpack>=0.5.6 in c:\\users\\olive\\appdata\\local\\programs\\python\\python312\\lib\\site-packages (from mashumaro[msgpack]~=3.9->dbt-core~=1.7.0->dbt-duckdb) (1.0.8)\n",
      "Requirement already satisfied: charset-normalizer<4,>=2 in c:\\users\\olive\\appdata\\local\\programs\\python\\python312\\lib\\site-packages (from requests<3.0.0->dbt-core~=1.7.0->dbt-duckdb) (3.3.2)\n",
      "Requirement already satisfied: certifi>=2017.4.17 in c:\\users\\olive\\appdata\\local\\programs\\python\\python312\\lib\\site-packages (from requests<3.0.0->dbt-core~=1.7.0->dbt-duckdb) (2024.2.2)\n",
      "Requirement already satisfied: zipp>=0.5 in c:\\users\\olive\\appdata\\local\\programs\\python\\python312\\lib\\site-packages (from importlib-metadata~=6.0->dbt-semantic-interfaces~=0.4.2->dbt-core~=1.7.0->dbt-duckdb) (3.17.0)\n",
      "Requirement already satisfied: annotated-types>=0.4.0 in c:\\users\\olive\\appdata\\local\\programs\\python\\python312\\lib\\site-packages (from pydantic<3,>=1.10->dbt-semantic-interfaces~=0.4.2->dbt-core~=1.7.0->dbt-duckdb) (0.6.0)\n",
      "Requirement already satisfied: pydantic-core==2.16.3 in c:\\users\\olive\\appdata\\local\\programs\\python\\python312\\lib\\site-packages (from pydantic<3,>=1.10->dbt-semantic-interfaces~=0.4.2->dbt-core~=1.7.0->dbt-duckdb) (2.16.3)\n",
      "Requirement already satisfied: text-unidecode>=1.3 in c:\\users\\olive\\appdata\\local\\programs\\python\\python312\\lib\\site-packages (from python-slugify>=1.2.1->agate~=1.7.0->dbt-core~=1.7.0->dbt-duckdb) (1.3)\n",
      "Note: you may need to restart the kernel to use updated packages.\n"
     ]
    },
    {
     "name": "stderr",
     "output_type": "stream",
     "text": [
      "\n",
      "[notice] A new release of pip is available: 24.0 -> 24.1.1\n",
      "[notice] To update, run: python.exe -m pip install --upgrade pip\n"
     ]
    }
   ],
   "source": [
    "pip install dbt-duckdb"
   ]
  },
  {
   "cell_type": "code",
   "execution_count": 16,
   "metadata": {},
   "outputs": [
    {
     "name": "stdout",
     "output_type": "stream",
     "text": [
      "Requirement already satisfied: sqlfluff in c:\\users\\olive\\appdata\\local\\programs\\python\\python312\\lib\\site-packages (2.3.5)\n",
      "Requirement already satisfied: appdirs in c:\\users\\olive\\appdata\\local\\programs\\python\\python312\\lib\\site-packages (from sqlfluff) (1.4.4)\n",
      "Requirement already satisfied: chardet in c:\\users\\olive\\appdata\\local\\programs\\python\\python312\\lib\\site-packages (from sqlfluff) (5.2.0)\n",
      "Requirement already satisfied: click in c:\\users\\olive\\appdata\\local\\programs\\python\\python312\\lib\\site-packages (from sqlfluff) (8.1.7)\n",
      "Requirement already satisfied: colorama>=0.3 in c:\\users\\olive\\appdata\\roaming\\python\\python312\\site-packages (from sqlfluff) (0.4.6)\n",
      "Requirement already satisfied: diff-cover>=2.5.0 in c:\\users\\olive\\appdata\\local\\programs\\python\\python312\\lib\\site-packages (from sqlfluff) (8.0.3)\n",
      "Requirement already satisfied: Jinja2 in c:\\users\\olive\\appdata\\local\\programs\\python\\python312\\lib\\site-packages (from sqlfluff) (3.1.3)\n",
      "Requirement already satisfied: pathspec in c:\\users\\olive\\appdata\\local\\programs\\python\\python312\\lib\\site-packages (from sqlfluff) (0.11.2)\n",
      "Requirement already satisfied: pytest in c:\\users\\olive\\appdata\\local\\programs\\python\\python312\\lib\\site-packages (from sqlfluff) (8.1.1)\n",
      "Requirement already satisfied: pyyaml>=5.1 in c:\\users\\olive\\appdata\\local\\programs\\python\\python312\\lib\\site-packages (from sqlfluff) (6.0.1)\n",
      "Requirement already satisfied: regex in c:\\users\\olive\\appdata\\local\\programs\\python\\python312\\lib\\site-packages (from sqlfluff) (2023.12.25)\n",
      "Requirement already satisfied: tblib in c:\\users\\olive\\appdata\\local\\programs\\python\\python312\\lib\\site-packages (from sqlfluff) (3.0.0)\n",
      "Requirement already satisfied: tqdm in c:\\users\\olive\\appdata\\local\\programs\\python\\python312\\lib\\site-packages (from sqlfluff) (4.66.2)\n",
      "Requirement already satisfied: typing-extensions in c:\\users\\olive\\appdata\\local\\programs\\python\\python312\\lib\\site-packages (from sqlfluff) (4.10.0)\n",
      "Requirement already satisfied: Pygments<3.0.0,>=2.9.0 in c:\\users\\olive\\appdata\\local\\programs\\python\\python312\\lib\\site-packages (from diff-cover>=2.5.0->sqlfluff) (2.17.2)\n",
      "Requirement already satisfied: pluggy<2,>=0.13.1 in c:\\users\\olive\\appdata\\local\\programs\\python\\python312\\lib\\site-packages (from diff-cover>=2.5.0->sqlfluff) (1.4.0)\n",
      "Requirement already satisfied: MarkupSafe>=2.0 in c:\\users\\olive\\appdata\\local\\programs\\python\\python312\\lib\\site-packages (from Jinja2->sqlfluff) (2.1.5)\n",
      "Requirement already satisfied: iniconfig in c:\\users\\olive\\appdata\\local\\programs\\python\\python312\\lib\\site-packages (from pytest->sqlfluff) (2.0.0)\n",
      "Requirement already satisfied: packaging in c:\\users\\olive\\appdata\\local\\programs\\python\\python312\\lib\\site-packages (from pytest->sqlfluff) (24.0)\n",
      "Note: you may need to restart the kernel to use updated packages.\n"
     ]
    },
    {
     "name": "stderr",
     "output_type": "stream",
     "text": [
      "\n",
      "[notice] A new release of pip is available: 24.0 -> 24.1.1\n",
      "[notice] To update, run: python.exe -m pip install --upgrade pip\n"
     ]
    }
   ],
   "source": [
    "pip install sqlfluff"
   ]
  },
  {
   "cell_type": "code",
   "execution_count": 17,
   "metadata": {},
   "outputs": [
    {
     "name": "stdout",
     "output_type": "stream",
     "text": [
      "Requirement already satisfied: duckcli in c:\\users\\olive\\appdata\\local\\programs\\python\\python312\\lib\\site-packages (0.2.1)\n",
      "Requirement already satisfied: duckdb>=0.4.0 in c:\\users\\olive\\appdata\\local\\programs\\python\\python312\\lib\\site-packages (from duckcli) (0.10.0)\n",
      "Requirement already satisfied: click>=4.1 in c:\\users\\olive\\appdata\\local\\programs\\python\\python312\\lib\\site-packages (from duckcli) (8.1.7)\n",
      "Requirement already satisfied: Pygments>=1.6 in c:\\users\\olive\\appdata\\local\\programs\\python\\python312\\lib\\site-packages (from duckcli) (2.17.2)\n",
      "Requirement already satisfied: prompt-toolkit<4.0.0,>=3.0.3 in c:\\users\\olive\\appdata\\local\\programs\\python\\python312\\lib\\site-packages (from duckcli) (3.0.43)\n",
      "Requirement already satisfied: sqlparse in c:\\users\\olive\\appdata\\local\\programs\\python\\python312\\lib\\site-packages (from duckcli) (0.4.4)\n",
      "Requirement already satisfied: configobj>=5.0.5 in c:\\users\\olive\\appdata\\local\\programs\\python\\python312\\lib\\site-packages (from duckcli) (5.0.8)\n",
      "Requirement already satisfied: cli-helpers>=2.2.1 in c:\\users\\olive\\appdata\\local\\programs\\python\\python312\\lib\\site-packages (from cli-helpers[styles]>=2.2.1->duckcli) (2.3.1)\n",
      "Requirement already satisfied: tabulate>=0.9.0 in c:\\users\\olive\\appdata\\local\\programs\\python\\python312\\lib\\site-packages (from tabulate[widechars]>=0.9.0->cli-helpers>=2.2.1->cli-helpers[styles]>=2.2.1->duckcli) (0.9.0)\n",
      "Requirement already satisfied: colorama in c:\\users\\olive\\appdata\\roaming\\python\\python312\\site-packages (from click>=4.1->duckcli) (0.4.6)\n",
      "Requirement already satisfied: six in c:\\users\\olive\\appdata\\roaming\\python\\python312\\site-packages (from configobj>=5.0.5->duckcli) (1.16.0)\n",
      "Requirement already satisfied: wcwidth in c:\\users\\olive\\appdata\\roaming\\python\\python312\\site-packages (from prompt-toolkit<4.0.0,>=3.0.3->duckcli) (0.2.13)\n",
      "Note: you may need to restart the kernel to use updated packages.\n"
     ]
    },
    {
     "name": "stderr",
     "output_type": "stream",
     "text": [
      "\n",
      "[notice] A new release of pip is available: 24.0 -> 24.1.1\n",
      "[notice] To update, run: python.exe -m pip install --upgrade pip\n"
     ]
    }
   ],
   "source": [
    "pip install duckcli"
   ]
  },
  {
   "cell_type": "code",
   "execution_count": 18,
   "metadata": {},
   "outputs": [
    {
     "name": "stdout",
     "output_type": "stream",
     "text": [
      "Requirement already satisfied: dbt-core in c:\\users\\olive\\appdata\\local\\programs\\python\\python312\\lib\\site-packages (1.7.9)Note: you may need to restart the kernel to use updated packages.\n",
      "\n",
      "Requirement already satisfied: agate~=1.7.0 in c:\\users\\olive\\appdata\\local\\programs\\python\\python312\\lib\\site-packages (from dbt-core) (1.7.1)\n",
      "Requirement already satisfied: Jinja2<4,>=3.1.3 in c:\\users\\olive\\appdata\\local\\programs\\python\\python312\\lib\\site-packages (from dbt-core) (3.1.3)\n",
      "Requirement already satisfied: mashumaro~=3.9 in c:\\users\\olive\\appdata\\local\\programs\\python\\python312\\lib\\site-packages (from mashumaro[msgpack]~=3.9->dbt-core) (3.12)\n",
      "Requirement already satisfied: logbook<1.6,>=1.5 in c:\\users\\olive\\appdata\\local\\programs\\python\\python312\\lib\\site-packages (from dbt-core) (1.5.3)\n",
      "Requirement already satisfied: click<9,>=8.0.2 in c:\\users\\olive\\appdata\\local\\programs\\python\\python312\\lib\\site-packages (from dbt-core) (8.1.7)\n",
      "Requirement already satisfied: networkx<4,>=2.3 in c:\\users\\olive\\appdata\\local\\programs\\python\\python312\\lib\\site-packages (from dbt-core) (3.1)\n",
      "Requirement already satisfied: colorama<0.5,>=0.3.9 in c:\\users\\olive\\appdata\\roaming\\python\\python312\\site-packages (from dbt-core) (0.4.6)\n",
      "Requirement already satisfied: pathspec<0.12,>=0.9 in c:\\users\\olive\\appdata\\local\\programs\\python\\python312\\lib\\site-packages (from dbt-core) (0.11.2)\n",
      "Requirement already satisfied: isodate<0.7,>=0.6 in c:\\users\\olive\\appdata\\local\\programs\\python\\python312\\lib\\site-packages (from dbt-core) (0.6.1)\n",
      "Requirement already satisfied: sqlparse<0.5,>=0.2.3 in c:\\users\\olive\\appdata\\local\\programs\\python\\python312\\lib\\site-packages (from dbt-core) (0.4.4)\n",
      "Requirement already satisfied: dbt-extractor~=0.5.0 in c:\\users\\olive\\appdata\\local\\programs\\python\\python312\\lib\\site-packages (from dbt-core) (0.5.1)\n",
      "Requirement already satisfied: minimal-snowplow-tracker~=0.0.2 in c:\\users\\olive\\appdata\\local\\programs\\python\\python312\\lib\\site-packages (from dbt-core) (0.0.2)\n",
      "Requirement already satisfied: dbt-semantic-interfaces~=0.4.2 in c:\\users\\olive\\appdata\\local\\programs\\python\\python312\\lib\\site-packages (from dbt-core) (0.4.4)\n",
      "Requirement already satisfied: jsonschema>=3.0 in c:\\users\\olive\\appdata\\local\\programs\\python\\python312\\lib\\site-packages (from dbt-core) (4.21.1)\n",
      "Requirement already satisfied: packaging>20.9 in c:\\users\\olive\\appdata\\local\\programs\\python\\python312\\lib\\site-packages (from dbt-core) (24.0)\n",
      "Requirement already satisfied: protobuf>=4.0.0 in c:\\users\\olive\\appdata\\local\\programs\\python\\python312\\lib\\site-packages (from dbt-core) (4.25.3)\n",
      "Requirement already satisfied: pytz>=2015.7 in c:\\users\\olive\\appdata\\local\\programs\\python\\python312\\lib\\site-packages (from dbt-core) (2024.1)\n",
      "Requirement already satisfied: pyyaml>=6.0 in c:\\users\\olive\\appdata\\local\\programs\\python\\python312\\lib\\site-packages (from dbt-core) (6.0.1)\n",
      "Requirement already satisfied: typing-extensions>=3.7.4 in c:\\users\\olive\\appdata\\local\\programs\\python\\python312\\lib\\site-packages (from dbt-core) (4.10.0)\n",
      "Requirement already satisfied: cffi<2.0.0,>=1.9 in c:\\users\\olive\\appdata\\local\\programs\\python\\python312\\lib\\site-packages (from dbt-core) (1.16.0)\n",
      "Requirement already satisfied: idna<4,>=2.5 in c:\\users\\olive\\appdata\\local\\programs\\python\\python312\\lib\\site-packages (from dbt-core) (3.6)\n",
      "Requirement already satisfied: requests<3.0.0 in c:\\users\\olive\\appdata\\local\\programs\\python\\python312\\lib\\site-packages (from dbt-core) (2.31.0)\n",
      "Requirement already satisfied: urllib3~=1.0 in c:\\users\\olive\\appdata\\local\\programs\\python\\python312\\lib\\site-packages (from dbt-core) (1.26.18)\n",
      "Requirement already satisfied: Babel>=2.0 in c:\\users\\olive\\appdata\\local\\programs\\python\\python312\\lib\\site-packages (from agate~=1.7.0->dbt-core) (2.14.0)\n",
      "Requirement already satisfied: leather>=0.3.2 in c:\\users\\olive\\appdata\\local\\programs\\python\\python312\\lib\\site-packages (from agate~=1.7.0->dbt-core) (0.4.0)\n",
      "Requirement already satisfied: parsedatetime!=2.5,>=2.1 in c:\\users\\olive\\appdata\\local\\programs\\python\\python312\\lib\\site-packages (from agate~=1.7.0->dbt-core) (2.6)\n",
      "Requirement already satisfied: python-slugify>=1.2.1 in c:\\users\\olive\\appdata\\local\\programs\\python\\python312\\lib\\site-packages (from agate~=1.7.0->dbt-core) (8.0.4)\n",
      "Requirement already satisfied: pytimeparse>=1.1.5 in c:\\users\\olive\\appdata\\local\\programs\\python\\python312\\lib\\site-packages (from agate~=1.7.0->dbt-core) (1.1.8)\n",
      "Requirement already satisfied: pycparser in c:\\users\\olive\\appdata\\local\\programs\\python\\python312\\lib\\site-packages (from cffi<2.0.0,>=1.9->dbt-core) (2.21)\n",
      "Requirement already satisfied: importlib-metadata~=6.0 in c:\\users\\olive\\appdata\\local\\programs\\python\\python312\\lib\\site-packages (from dbt-semantic-interfaces~=0.4.2->dbt-core) (6.11.0)\n",
      "Requirement already satisfied: more-itertools<11.0,>=8.0 in c:\\users\\olive\\appdata\\local\\programs\\python\\python312\\lib\\site-packages (from dbt-semantic-interfaces~=0.4.2->dbt-core) (10.2.0)\n",
      "Requirement already satisfied: pydantic<3,>=1.10 in c:\\users\\olive\\appdata\\local\\programs\\python\\python312\\lib\\site-packages (from dbt-semantic-interfaces~=0.4.2->dbt-core) (2.6.3)\n",
      "Requirement already satisfied: python-dateutil~=2.0 in c:\\users\\olive\\appdata\\roaming\\python\\python312\\site-packages (from dbt-semantic-interfaces~=0.4.2->dbt-core) (2.9.0.post0)\n",
      "Requirement already satisfied: six in c:\\users\\olive\\appdata\\roaming\\python\\python312\\site-packages (from isodate<0.7,>=0.6->dbt-core) (1.16.0)\n",
      "Requirement already satisfied: MarkupSafe>=2.0 in c:\\users\\olive\\appdata\\local\\programs\\python\\python312\\lib\\site-packages (from Jinja2<4,>=3.1.3->dbt-core) (2.1.5)\n",
      "Requirement already satisfied: attrs>=22.2.0 in c:\\users\\olive\\appdata\\local\\programs\\python\\python312\\lib\\site-packages (from jsonschema>=3.0->dbt-core) (23.2.0)\n",
      "Requirement already satisfied: jsonschema-specifications>=2023.03.6 in c:\\users\\olive\\appdata\\local\\programs\\python\\python312\\lib\\site-packages (from jsonschema>=3.0->dbt-core) (2023.12.1)\n",
      "Requirement already satisfied: referencing>=0.28.4 in c:\\users\\olive\\appdata\\local\\programs\\python\\python312\\lib\\site-packages (from jsonschema>=3.0->dbt-core) (0.33.0)\n",
      "Requirement already satisfied: rpds-py>=0.7.1 in c:\\users\\olive\\appdata\\local\\programs\\python\\python312\\lib\\site-packages (from jsonschema>=3.0->dbt-core) (0.18.0)\n",
      "Requirement already satisfied: msgpack>=0.5.6 in c:\\users\\olive\\appdata\\local\\programs\\python\\python312\\lib\\site-packages (from mashumaro[msgpack]~=3.9->dbt-core) (1.0.8)\n",
      "Requirement already satisfied: charset-normalizer<4,>=2 in c:\\users\\olive\\appdata\\local\\programs\\python\\python312\\lib\\site-packages (from requests<3.0.0->dbt-core) (3.3.2)\n",
      "Requirement already satisfied: certifi>=2017.4.17 in c:\\users\\olive\\appdata\\local\\programs\\python\\python312\\lib\\site-packages (from requests<3.0.0->dbt-core) (2024.2.2)\n",
      "Requirement already satisfied: zipp>=0.5 in c:\\users\\olive\\appdata\\local\\programs\\python\\python312\\lib\\site-packages (from importlib-metadata~=6.0->dbt-semantic-interfaces~=0.4.2->dbt-core) (3.17.0)\n",
      "Requirement already satisfied: annotated-types>=0.4.0 in c:\\users\\olive\\appdata\\local\\programs\\python\\python312\\lib\\site-packages (from pydantic<3,>=1.10->dbt-semantic-interfaces~=0.4.2->dbt-core) (0.6.0)\n",
      "Requirement already satisfied: pydantic-core==2.16.3 in c:\\users\\olive\\appdata\\local\\programs\\python\\python312\\lib\\site-packages (from pydantic<3,>=1.10->dbt-semantic-interfaces~=0.4.2->dbt-core) (2.16.3)\n",
      "Requirement already satisfied: text-unidecode>=1.3 in c:\\users\\olive\\appdata\\local\\programs\\python\\python312\\lib\\site-packages (from python-slugify>=1.2.1->agate~=1.7.0->dbt-core) (1.3)\n"
     ]
    },
    {
     "name": "stderr",
     "output_type": "stream",
     "text": [
      "\n",
      "[notice] A new release of pip is available: 24.0 -> 24.1.1\n",
      "[notice] To update, run: python.exe -m pip install --upgrade pip\n"
     ]
    }
   ],
   "source": [
    "pip install dbt-core"
   ]
  },
  {
   "cell_type": "code",
   "execution_count": 3,
   "metadata": {},
   "outputs": [
    {
     "name": "stdout",
     "output_type": "stream",
     "text": [
      "Requirement already satisfied: duckdb in c:\\users\\olive\\appdata\\local\\programs\\python\\python312\\lib\\site-packages (0.10.0)\n",
      "Note: you may need to restart the kernel to use updated packages.\n"
     ]
    },
    {
     "name": "stderr",
     "output_type": "stream",
     "text": [
      "\n",
      "[notice] A new release of pip is available: 24.0 -> 24.1.1\n",
      "[notice] To update, run: python.exe -m pip install --upgrade pip\n"
     ]
    }
   ],
   "source": [
    "pip install duckdb"
   ]
  },
  {
   "cell_type": "code",
   "execution_count": 6,
   "metadata": {},
   "outputs": [
    {
     "name": "stdout",
     "output_type": "stream",
     "text": [
      "Name: duckdb\n",
      "Version: 0.10.0\n",
      "Summary: DuckDB in-process database\n",
      "Home-page: https://www.duckdb.org\n",
      "Author: \n",
      "Author-email: \n",
      "License: MIT\n",
      "Location: c:\\Users\\Olive\\AppData\\Local\\Programs\\Python\\Python312\\Lib\\site-packages\n",
      "Requires: \n",
      "Required-by: dbt-duckdb, duckcli\n",
      "Note: you may need to restart the kernel to use updated packages.\n"
     ]
    }
   ],
   "source": [
    "pip show duckdb"
   ]
  },
  {
   "cell_type": "code",
   "execution_count": 7,
   "metadata": {},
   "outputs": [],
   "source": [
    "import duckcli"
   ]
  },
  {
   "cell_type": "code",
   "execution_count": 9,
   "metadata": {},
   "outputs": [],
   "source": [
    "import duckdb"
   ]
  },
  {
   "cell_type": "code",
   "execution_count": 11,
   "metadata": {},
   "outputs": [],
   "source": [
    "import os"
   ]
  },
  {
   "cell_type": "code",
   "execution_count": null,
   "metadata": {},
   "outputs": [],
   "source": []
  },
  {
   "cell_type": "code",
   "execution_count": 12,
   "metadata": {},
   "outputs": [],
   "source": [
    "#### DUCKDB\n",
    "\n",
    "# Get the current working directory\n",
    "current_dir = os.getcwd()\n",
    "\n",
    "# Adjust the path for the DuckDB file one level above the current directory\n",
    "db_path = os.path.join(os.path.dirname(current_dir), 'aether_energy_analytics.duckdb')\n",
    "\n",
    "# Connect to DuckDB and create an empty database file\n",
    "conn = duckdb.connect(db_path)\n"
   ]
  },
  {
   "cell_type": "code",
   "execution_count": null,
   "metadata": {},
   "outputs": [],
   "source": []
  },
  {
   "cell_type": "code",
   "execution_count": null,
   "metadata": {},
   "outputs": [],
   "source": []
  },
  {
   "cell_type": "code",
   "execution_count": 57,
   "metadata": {},
   "outputs": [],
   "source": [
    "# #### SQLITE\n",
    "\n",
    "# # Get the current working directory\n",
    "# current_dir = os.getcwd()\n",
    "\n",
    "# # Adjust the path for the DuckDB file one level above the current directory\n",
    "# db_path = os.path.join(os.path.dirname(current_dir), 'aether_energy_analytics.db')\n",
    "\n",
    "# # Connect to DuckDB and create an empty database file\n",
    "# conn = sqlite3.connect(db_path)\n"
   ]
  },
  {
   "cell_type": "code",
   "execution_count": 13,
   "metadata": {},
   "outputs": [],
   "source": [
    "# Create a cursor object using the connection\n",
    "cursor = conn.cursor()"
   ]
  },
  {
   "cell_type": "code",
   "execution_count": 14,
   "metadata": {},
   "outputs": [
    {
     "data": {
      "text/plain": [
       "duckdb.duckdb.DuckDBPyConnection"
      ]
     },
     "execution_count": 14,
     "metadata": {},
     "output_type": "execute_result"
    }
   ],
   "source": [
    "type(conn)"
   ]
  },
  {
   "cell_type": "code",
   "execution_count": 19,
   "metadata": {},
   "outputs": [
    {
     "name": "stderr",
     "output_type": "stream",
     "text": [
      "C:\\Users\\Olive\\AppData\\Local\\Temp\\ipykernel_10368\\2640543330.py:2: UserWarning: pandas only supports SQLAlchemy connectable (engine/connection) or database string URI or sqlite3 DBAPI2 connection. Other DBAPI2 objects are not tested. Please consider using SQLAlchemy.\n",
      "  df_customers.to_sql('customers', conn, if_exists='replace', index=False)\n",
      "C:\\Users\\Olive\\AppData\\Local\\Temp\\ipykernel_10368\\2640543330.py:5: UserWarning: pandas only supports SQLAlchemy connectable (engine/connection) or database string URI or sqlite3 DBAPI2 connection. Other DBAPI2 objects are not tested. Please consider using SQLAlchemy.\n",
      "  df_energy_consumption.to_sql('energy_consumption', conn, if_exists='replace', index=False)\n",
      "C:\\Users\\Olive\\AppData\\Local\\Temp\\ipykernel_10368\\2640543330.py:8: UserWarning: pandas only supports SQLAlchemy connectable (engine/connection) or database string URI or sqlite3 DBAPI2 connection. Other DBAPI2 objects are not tested. Please consider using SQLAlchemy.\n",
      "  df_customer_feedback.to_sql('customer_feedback', conn, if_exists='replace', index=False)\n"
     ]
    },
    {
     "data": {
      "text/plain": [
       "-1"
      ]
     },
     "execution_count": 19,
     "metadata": {},
     "output_type": "execute_result"
    }
   ],
   "source": [
    "\n",
    "# Insert data into customers table\n",
    "df_customers.to_sql('customers', conn, if_exists='replace', index=False)\n",
    "\n",
    "# Insert data into energy_consumption table\n",
    "df_energy_consumption.to_sql('energy_consumption', conn, if_exists='replace', index=False)\n",
    "\n",
    "# Insert data into customer_feedback table\n",
    "df_customer_feedback.to_sql('customer_feedback', conn, if_exists='replace', index=False)"
   ]
  },
  {
   "cell_type": "code",
   "execution_count": 20,
   "metadata": {},
   "outputs": [],
   "source": [
    "\n",
    "# Commit changes to the database\n",
    "conn.commit()\n",
    "\n",
    "# Close the cursor and connection\n",
    "cursor.close()\n",
    "conn.close()\n"
   ]
  },
  {
   "cell_type": "code",
   "execution_count": null,
   "metadata": {},
   "outputs": [],
   "source": []
  }
 ],
 "metadata": {
  "kernelspec": {
   "display_name": "venv",
   "language": "python",
   "name": "python3"
  },
  "language_info": {
   "codemirror_mode": {
    "name": "ipython",
    "version": 3
   },
   "file_extension": ".py",
   "mimetype": "text/x-python",
   "name": "python",
   "nbconvert_exporter": "python",
   "pygments_lexer": "ipython3",
   "version": "3.12.4"
  }
 },
 "nbformat": 4,
 "nbformat_minor": 2
}
