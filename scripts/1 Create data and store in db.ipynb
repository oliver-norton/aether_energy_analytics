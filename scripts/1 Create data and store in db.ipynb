{
 "cells": [
  {
   "cell_type": "code",
   "execution_count": 1,
   "metadata": {},
   "outputs": [
    {
     "name": "stdout",
     "output_type": "stream",
     "text": [
      "test\n"
     ]
    }
   ],
   "source": [
    "print('test')"
   ]
  },
  {
   "cell_type": "code",
   "execution_count": 4,
   "metadata": {},
   "outputs": [
    {
     "name": "stdout",
     "output_type": "stream",
     "text": [
      "Customers Table:\n",
      "   customer_id             customer_name  age  gender region\n",
      "0            1             Randall Wells   69  Female  North\n",
      "1            2              Angela Tyler   25    Male  South\n",
      "2            3          Maxwell Morrison   28  Female   West\n",
      "3            4  Mrs. Kathleen Rangel DVM   28  Female   East\n",
      "4            5              Linda Bishop   64  Female   West\n"
     ]
    },
    {
     "data": {
      "text/plain": [
       "1000"
      ]
     },
     "execution_count": 4,
     "metadata": {},
     "output_type": "execute_result"
    }
   ],
   "source": [
    "# n = 1000 \n",
    "\n",
    "from faker import Faker\n",
    "import pandas as pd\n",
    "import numpy as np\n",
    "\n",
    "# Initialize Faker generator\n",
    "fake = Faker()\n",
    "\n",
    "# Generate data for customers\n",
    "np.random.seed(0)\n",
    "customer_ids = range(1, 1001)\n",
    "customer_names = [fake.name() for _ in customer_ids]\n",
    "customer_ages = np.random.randint(25, 70, size=1000)\n",
    "customer_genders = np.random.choice(['Male', 'Female'], size=1000)\n",
    "customer_regions = np.random.choice(['North', 'South', 'East', 'West'], size=1000)\n",
    "\n",
    "# Create DataFrame for customers\n",
    "df_customers = pd.DataFrame({\n",
    "    'customer_id': customer_ids,\n",
    "    'customer_name': customer_names,\n",
    "    'age': customer_ages,\n",
    "    'gender': customer_genders,\n",
    "    'region': customer_regions\n",
    "})\n",
    "\n",
    "# Display the DataFrame\n",
    "print(\"Customers Table:\")\n",
    "print(df_customers.head())\n",
    "len(df_customers)\n"
   ]
  },
  {
   "cell_type": "code",
   "execution_count": 5,
   "metadata": {},
   "outputs": [],
   "source": [
    "# Function to generate fake data\n",
    "def generate_fake_data(num_rows):\n",
    "    data = []\n",
    "    for _ in range(num_rows):\n",
    "        data.append({\n",
    "            'id': fake.uuid4(),\n",
    "            'name': fake.name(),\n",
    "            'email': fake.email(),\n",
    "            'address': fake.address(),\n",
    "            'date_of_birth': fake.date_of_birth(),\n",
    "            'created_at': fake.date_time_this_year()\n",
    "        })\n",
    "    return pd.DataFrame(data)"
   ]
  },
  {
   "cell_type": "code",
   "execution_count": 7,
   "metadata": {},
   "outputs": [
    {
     "name": "stdout",
     "output_type": "stream",
     "text": [
      "\n",
      "Energy Consumption Table:\n",
      "  consumed_at  customer_id  energy_usage_kWh\n",
      "0  2020-01-01          100        203.831147\n",
      "1  2020-01-02          415        263.280886\n",
      "2  2020-01-03          757        760.020007\n",
      "3  2020-01-04          938        245.641825\n",
      "4  2020-01-05          759        701.854997\n"
     ]
    }
   ],
   "source": [
    "# Generate data for energy consumption\n",
    "timestamps = pd.date_range(start='2020-01-01', periods=1000, freq='D')\n",
    "customer_ids = np.random.choice(range(1, 1001), size=1000)\n",
    "energy_usage = np.random.uniform(10, 1000, size=1000)  # Simulate energy usage in kWh\n",
    "\n",
    "# Create DataFrame for energy consumption\n",
    "df_energy_consumption = pd.DataFrame({\n",
    "    'consumed_at': timestamps,\n",
    "    'customer_id': customer_ids,\n",
    "    'energy_usage_kWh': energy_usage\n",
    "})\n",
    "\n",
    "# Display the DataFrame\n",
    "print(\"\\nEnergy Consumption Table:\")\n",
    "print(df_energy_consumption.head())\n"
   ]
  },
  {
   "cell_type": "code",
   "execution_count": 8,
   "metadata": {},
   "outputs": [
    {
     "name": "stdout",
     "output_type": "stream",
     "text": [
      "\n",
      "Customer Feedback Table:\n",
      "  feedback_date  customer_id  rating  \\\n",
      "0    2020-01-05          297       5   \n",
      "1    2020-01-12          202       4   \n",
      "2    2020-01-19          771       5   \n",
      "3    2020-01-26          463       4   \n",
      "4    2020-02-02          572       4   \n",
      "\n",
      "                                      comments  \n",
      "0         Doctor direction poor thank six son.  \n",
      "1             Pm forward fight sign everybody.  \n",
      "2            Half around right suffer history.  \n",
      "3  Though Mrs with since half speak per media.  \n",
      "4         Ball station their thing wind music.  \n"
     ]
    }
   ],
   "source": [
    "# Generate data for customer feedback\n",
    "feedback_dates = pd.date_range(start='2020-01-01', periods=1000, freq='W')\n",
    "customer_ids = np.random.choice(range(1, 1001), size=1000)\n",
    "ratings = np.random.randint(1, 6, size=1000)\n",
    "comments = [fake.text(max_nb_chars=50) for _ in range(1000)]\n",
    "\n",
    "# Create DataFrame for customer feedback\n",
    "df_customer_feedback = pd.DataFrame({\n",
    "    'feedback_date': feedback_dates,\n",
    "    'customer_id': customer_ids,\n",
    "    'rating': ratings,\n",
    "    'comments': comments\n",
    "})\n",
    "\n",
    "# Display the DataFrame\n",
    "print(\"\\nCustomer Feedback Table:\")\n",
    "print(df_customer_feedback.head())\n"
   ]
  },
  {
   "cell_type": "code",
   "execution_count": 9,
   "metadata": {},
   "outputs": [
    {
     "data": {
      "text/plain": [
       "1000"
      ]
     },
     "execution_count": 9,
     "metadata": {},
     "output_type": "execute_result"
    }
   ],
   "source": [
    "len(df_customer_feedback)"
   ]
  },
  {
   "cell_type": "code",
   "execution_count": 10,
   "metadata": {},
   "outputs": [
    {
     "data": {
      "text/plain": [
       "1000"
      ]
     },
     "execution_count": 10,
     "metadata": {},
     "output_type": "execute_result"
    }
   ],
   "source": [
    "len(df_customers)"
   ]
  },
  {
   "cell_type": "code",
   "execution_count": 11,
   "metadata": {},
   "outputs": [
    {
     "data": {
      "text/plain": [
       "1000"
      ]
     },
     "execution_count": 11,
     "metadata": {},
     "output_type": "execute_result"
    }
   ],
   "source": [
    "len(df_energy_consumption)"
   ]
  },
  {
   "cell_type": "markdown",
   "metadata": {},
   "source": [
    "#### Connect to duckdb and export data into duckdb"
   ]
  },
  {
   "cell_type": "code",
   "execution_count": 16,
   "metadata": {},
   "outputs": [],
   "source": [
    "import duckdb\n",
    "import sqlite3\n",
    "import os\n"
   ]
  },
  {
   "cell_type": "code",
   "execution_count": 18,
   "metadata": {},
   "outputs": [],
   "source": [
    "#### DUCKDB\n",
    "\n",
    "# Get the current working directory\n",
    "current_dir = os.getcwd()\n",
    "\n",
    "# Adjust the path for the DuckDB file one level above the current directory\n",
    "db_path = os.path.join(os.path.dirname(current_dir), 'aether_energy_analytics.duckdb')\n",
    "\n",
    "# Connect to DuckDB and create an empty database file\n",
    "conn = duckdb.connect(db_path)\n"
   ]
  },
  {
   "cell_type": "code",
   "execution_count": 19,
   "metadata": {},
   "outputs": [],
   "source": [
    "# Create a cursor object using the connection\n",
    "cursor = conn.cursor()"
   ]
  },
  {
   "cell_type": "code",
   "execution_count": 20,
   "metadata": {},
   "outputs": [],
   "source": [
    "\n",
    "# Insert data into customers table\n",
    "df_customers.to_sql('customers', conn, if_exists='replace', index=False)\n",
    "\n",
    "# Insert data into energy_consumption table\n",
    "df_energy_consumption.to_sql('energy_consumption', conn, if_exists='replace', index=False)\n",
    "\n",
    "# Insert data into customer_feedback table\n",
    "df_customer_feedback.to_sql('customer_feedback', conn, if_exists='replace', index=False)"
   ]
  },
  {
   "cell_type": "code",
   "execution_count": 21,
   "metadata": {},
   "outputs": [],
   "source": [
    "\n",
    "# Commit changes to the database\n",
    "conn.commit()\n",
    "\n",
    "# Close the cursor and connection\n",
    "cursor.close()\n",
    "conn.close()\n"
   ]
  },
  {
   "cell_type": "code",
   "execution_count": 22,
   "metadata": {},
   "outputs": [],
   "source": [
    "conn.close()"
   ]
  },
  {
   "cell_type": "code",
   "execution_count": null,
   "metadata": {},
   "outputs": [],
   "source": []
  }
 ],
 "metadata": {
  "kernelspec": {
   "display_name": "venv",
   "language": "python",
   "name": "python3"
  },
  "language_info": {
   "codemirror_mode": {
    "name": "ipython",
    "version": 3
   },
   "file_extension": ".py",
   "mimetype": "text/x-python",
   "name": "python",
   "nbconvert_exporter": "python",
   "pygments_lexer": "ipython3",
   "version": "3.8.8"
  }
 },
 "nbformat": 4,
 "nbformat_minor": 2
}
