{
 "cells": [
  {
   "cell_type": "code",
   "execution_count": null,
   "metadata": {},
   "outputs": [],
   "source": [
    "# follow this guide: \n",
    "# https://help.tableau.com/current/api/webdataconnector/en-us/index.html"
   ]
  },
  {
   "cell_type": "code",
   "execution_count": null,
   "metadata": {},
   "outputs": [],
   "source": [
    "# we can't get the connector to work because something isn't installed\n",
    "\n",
    "# however, we will just export our database to .csv files so we can import them into tableau desktop \n",
    "\n",
    "# COPY testing.customer_profiles TO 'output.csv' (HEADER, DELIMITER ',');\n",
    "\n",
    "# COPY testing.customer_profiles TO './output/customer_profiles.csv' (HEADER, DELIMITER ',');\n",
    "# COPY testing.aggregated_feedback TO './output/aggregated_feedback.csv' (HEADER, DELIMITER ',');\n",
    "# COPY testing.monthly_consumption TO './output/monthly_consumption.csv' (HEADER, DELIMITER ',');\n",
    "\n",
    "\n",
    "# try with spatial for csv \n",
    "\n",
    "# load spatial\n",
    "# COPY testing.customer_profiles TO './output/customer_profiles.xlsx' WITH (FORMAT GDAL, DRIVER 'xlsx');\n",
    "# COPY testing.aggregated_feedback TO './output/aggregated_feedback.xlsx' WITH (FORMAT GDAL, DRIVER 'xlsx');\n",
    "# COPY testing.monthly_consumption TO './output/monthly_consumption.xlsx' WITH (FORMAT GDAL, DRIVER 'xlsx');\n",
    "\n",
    "\n"
   ]
  }
 ],
 "metadata": {
  "language_info": {
   "name": "python"
  }
 },
 "nbformat": 4,
 "nbformat_minor": 2
}
